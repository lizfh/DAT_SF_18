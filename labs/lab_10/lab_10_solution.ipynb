{
 "cells": [
  {
   "cell_type": "markdown",
   "metadata": {},
   "source": [
    "## DAT18 Lab 10\n",
    "## Support Vector Machines"
   ]
  },
  {
   "cell_type": "markdown",
   "metadata": {},
   "source": [
    "Support vector machines are powerful tools for performing analysis, built on the theory that there is a higher dimension where data can be seperated (via an appropriate hyperplane for that dimension).\n",
    "\n",
    "As always, we'll import our standard packages, as well as two new ones: svm.SVC & tree.DecisionTreeClassifier. SVC stands for Support Vector Classification. There is an SVR class as well but that is for using SVMs in regression, which is out of scope for this lab."
   ]
  },
  {
   "cell_type": "raw",
   "metadata": {
    "collapsed": false
   },
   "source": [
    "import numpy as np\n",
    "import pandas as pd\n",
    "\n",
    "from sklearn.svm import SVC\n",
    "from sklearn.tree import DecisionTreeClassifier\n",
    "from sklearn.preprocessing import OneHotEncoder\n",
    "from sklearn.metrics import classification_report\n",
    "from sklearn.cross_validation import ShuffleSplit\n",
    "\n",
    "from bokeh.plotting import figure,show,output_notebook\n",
    "output_notebook()\n",
    "\n",
    "%matplotlib inline"
   ]
  },
  {
   "cell_type": "markdown",
   "metadata": {},
   "source": [
    "An SVM can also be used for categorical data. Because SVMs are more complex than most classification algorithms we've seen, there are many more parameters to tune and options to set for the SVC. Sklearn SVC documentation:\n",
    "\n",
    "http://scikit-learn.org/stable/modules/generated/sklearn.svm.SVC.html#sklearn.svm.SVC\n",
    "\n",
    "###Load the data!\n",
    "To demonstrate these classifiers clearly, we will use the Iris dataset again"
   ]
  },
  {
   "cell_type": "code",
   "execution_count": 2,
   "metadata": {
    "collapsed": false
   },
   "outputs": [],
   "source": [
    "from sklearn import datasets\n",
    "\n",
    "# import some data to play with\n",
    "iris_port = datasets.load_iris()\n",
    "iris = pd.DataFrame(iris_port.data,columns=iris_port.feature_names)\n",
    "y = iris_port.target\n",
    "X = iris"
   ]
  },
  {
   "cell_type": "code",
   "execution_count": 3,
   "metadata": {
    "collapsed": false
   },
   "outputs": [],
   "source": [
    "index = range(0,len(X))\n",
    "np.random.shuffle(index)\n",
    "train = index[:len(X)*3/5]\n",
    "test = index[len(X)*3/5:]"
   ]
  },
  {
   "cell_type": "code",
   "execution_count": 4,
   "metadata": {
    "collapsed": false,
    "scrolled": false
   },
   "outputs": [
    {
     "name": "stdout",
     "output_type": "stream",
     "text": [
      "             precision    recall  f1-score   support\n",
      "\n",
      "          0       1.00      1.00      1.00        22\n",
      "          1       1.00      0.94      0.97        18\n",
      "          2       0.95      1.00      0.98        20\n",
      "\n",
      "avg / total       0.98      0.98      0.98        60\n",
      "\n"
     ]
    }
   ],
   "source": [
    "model = SVC(kernel='linear',C=1).fit(X.iloc[train],y[train])\n",
    "print classification_report(y[test],model.predict(X.iloc[test]))"
   ]
  },
  {
   "cell_type": "markdown",
   "metadata": {},
   "source": [
    "The linear kernel has a coef\\_ attribute we can use to plot our features. The coefficients are provided in the order of the classifier target (row 1 corresponds to target 1, etc.)"
   ]
  },
  {
   "cell_type": "code",
   "execution_count": 5,
   "metadata": {
    "collapsed": false
   },
   "outputs": [
    {
     "data": {
      "text/plain": [
       "array(['setosa', 'versicolor', 'virginica'], \n",
       "      dtype='|S10')"
      ]
     },
     "execution_count": 5,
     "metadata": {},
     "output_type": "execute_result"
    }
   ],
   "source": [
    "names = iris_port.target_names\n",
    "names"
   ]
  },
  {
   "cell_type": "code",
   "execution_count": 6,
   "metadata": {
    "collapsed": false
   },
   "outputs": [
    {
     "data": {
      "text/plain": [
       "{'setosa': [-0.00019101758678941039,\n",
       "  0.59481596255038793,\n",
       "  -0.96634512622701063,\n",
       "  -0.44625523510288329],\n",
       " 'versicolor': [-0.0074537730401550428,\n",
       "  0.17900529162781531,\n",
       "  -0.53817143524840017,\n",
       "  -0.29260259710961933],\n",
       " 'virginica': [0.54602913544673015,\n",
       "  1.1574209058950693,\n",
       "  -1.8437995086110348,\n",
       "  -1.7365773352566727]}"
      ]
     },
     "execution_count": 6,
     "metadata": {},
     "output_type": "execute_result"
    }
   ],
   "source": [
    "data = {}\n",
    "for i,row in enumerate(model.coef_):\n",
    "    data[names[i]] = list(row)\n",
    "data"
   ]
  },
  {
   "cell_type": "code",
   "execution_count": 7,
   "metadata": {
    "collapsed": true
   },
   "outputs": [],
   "source": [
    "from bokeh._legacy_charts import Bar, show"
   ]
  },
  {
   "cell_type": "code",
   "execution_count": 8,
   "metadata": {
    "collapsed": false
   },
   "outputs": [
    {
     "name": "stderr",
     "output_type": "stream",
     "text": [
      "/Users/francescomosconi/anaconda/lib/python2.7/site-packages/bokeh/_legacy_charts/_chart.py:92: UserWarning: Instantiating a Legacy Chart from bokeh._legacy_charts\n",
      "  warn(\"Instantiating a Legacy Chart from bokeh._legacy_charts\")\n"
     ]
    },
    {
     "data": {
      "text/html": [
       "<script type=\"text/javascript\">\n",
       "        Bokeh.$(function() {\n",
       "        var all_models = [{\"attributes\": {\"plot\": {\"subtype\": \"LegacyChart\", \"type\": \"Plot\", \"id\": \"fc247943-8f0c-442e-a0fc-9d7f90bf235c\"}, \"tags\": [], \"doc\": null, \"id\": \"34ab7ca9-1578-4ff4-8d95-3942148b0d64\"}, \"type\": \"ResizeTool\", \"id\": \"34ab7ca9-1578-4ff4-8d95-3942148b0d64\"}, {\"attributes\": {\"plot\": {\"subtype\": \"LegacyChart\", \"type\": \"Plot\", \"id\": \"fc247943-8f0c-442e-a0fc-9d7f90bf235c\"}, \"tags\": [], \"doc\": null, \"id\": \"9c54fce8-6b20-4f38-ba42-88bb997c2d71\"}, \"type\": \"ResetTool\", \"id\": \"9c54fce8-6b20-4f38-ba42-88bb997c2d71\"}, {\"attributes\": {\"plot\": {\"subtype\": \"LegacyChart\", \"type\": \"Plot\", \"id\": \"fc247943-8f0c-442e-a0fc-9d7f90bf235c\"}, \"tags\": [], \"doc\": null, \"id\": \"1c9c16db-43ce-4158-b65d-89bc322096dd\"}, \"type\": \"HelpTool\", \"id\": \"1c9c16db-43ce-4158-b65d-89bc322096dd\"}, {\"attributes\": {\"callback\": null, \"factors\": [\"sepal length (cm)\", \"sepal width (cm)\", \"petal length (cm)\", \"petal width (cm)\"], \"doc\": null, \"tags\": [], \"id\": \"3b179db6-27cd-45e7-ade2-19341c4bf116\"}, \"type\": \"FactorRange\", \"id\": \"3b179db6-27cd-45e7-ade2-19341c4bf116\"}, {\"subtype\": \"LegacyChart\", \"type\": \"Plot\", \"id\": \"fc247943-8f0c-442e-a0fc-9d7f90bf235c\", \"attributes\": {\"x_range\": {\"type\": \"FactorRange\", \"id\": \"3b179db6-27cd-45e7-ade2-19341c4bf116\"}, \"right\": [], \"above\": [], \"tags\": [], \"tools\": [{\"type\": \"PanTool\", \"id\": \"0277cf6d-5fc2-4ee7-8d7a-4213ae17b709\"}, {\"type\": \"WheelZoomTool\", \"id\": \"6e4d8e21-9697-476e-9995-26efabfb9523\"}, {\"type\": \"BoxZoomTool\", \"id\": \"c7554f6e-a754-457d-8fa3-7f84a43eec52\"}, {\"type\": \"PreviewSaveTool\", \"id\": \"ec911239-c8c5-4162-9132-326526b180ca\"}, {\"type\": \"ResizeTool\", \"id\": \"34ab7ca9-1578-4ff4-8d95-3942148b0d64\"}, {\"type\": \"ResetTool\", \"id\": \"9c54fce8-6b20-4f38-ba42-88bb997c2d71\"}, {\"type\": \"HelpTool\", \"id\": \"1c9c16db-43ce-4158-b65d-89bc322096dd\"}], \"id\": \"fc247943-8f0c-442e-a0fc-9d7f90bf235c\", \"title\": \"SVC Feature Importance\", \"renderers\": [{\"type\": \"CategoricalAxis\", \"id\": \"4622a245-472d-460c-89ee-7549d83ab69a\"}, {\"type\": \"LinearAxis\", \"id\": \"74a125ba-88b4-4417-9ffb-31d54f9a64db\"}, {\"type\": \"Grid\", \"id\": \"752a1b35-71ba-42c1-a86a-f0744d2780de\"}, {\"type\": \"GlyphRenderer\", \"id\": \"f7ce314a-2393-4f22-85e0-509c71f60cc8\"}, {\"type\": \"GlyphRenderer\", \"id\": \"9d364ad9-8b8b-4118-a394-4d11ad4bcf54\"}, {\"type\": \"GlyphRenderer\", \"id\": \"de2dbf4e-cba5-4725-8716-940d0d48ba41\"}, {\"type\": \"Legend\", \"id\": \"2f184ae7-3966-446d-9ce7-48a0aae8f1ee\"}], \"plot_width\": 600, \"extra_y_ranges\": {}, \"extra_x_ranges\": {}, \"tool_events\": {\"type\": \"ToolEvents\", \"id\": \"0100898e-1613-4885-9089-3d8984ad4e63\"}, \"plot_height\": 600, \"doc\": null, \"responsive\": false, \"y_range\": {\"type\": \"Range1d\", \"id\": \"40ad0257-9b6e-41d7-b7d2-e26711d2571e\"}, \"below\": [{\"type\": \"CategoricalAxis\", \"id\": \"4622a245-472d-460c-89ee-7549d83ab69a\"}], \"left\": [{\"type\": \"LinearAxis\", \"id\": \"74a125ba-88b4-4417-9ffb-31d54f9a64db\"}]}}, {\"attributes\": {\"plot\": {\"subtype\": \"LegacyChart\", \"type\": \"Plot\", \"id\": \"fc247943-8f0c-442e-a0fc-9d7f90bf235c\"}, \"tags\": [], \"doc\": null, \"id\": \"ec911239-c8c5-4162-9132-326526b180ca\"}, \"type\": \"PreviewSaveTool\", \"id\": \"ec911239-c8c5-4162-9132-326526b180ca\"}, {\"attributes\": {\"geometries\": [], \"tags\": [], \"doc\": null, \"id\": \"0100898e-1613-4885-9089-3d8984ad4e63\"}, \"type\": \"ToolEvents\", \"id\": \"0100898e-1613-4885-9089-3d8984ad4e63\"}, {\"attributes\": {\"column_names\": [\"width_cat\", \"midversicolor\", \"stackedsetosa\", \"midvirginica\", \"catvirginica\", \"catversicolor\", \"midsetosa\", \"stackedversicolor\", \"cat\", \"width\", \"zero\", \"stackedvirginica\", \"catsetosa\", \"virginica\", \"versicolor\", \"setosa\"], \"tags\": [], \"doc\": null, \"selected\": {\"2d\": {\"indices\": []}, \"1d\": {\"indices\": []}, \"0d\": {\"indices\": [], \"flag\": false}}, \"callback\": null, \"data\": {\"width_cat\": [0.2, 0.2, 0.2, 0.2], \"midversicolor\": [-0.0037268865200775214, 0.08950264581390766, -0.2690857176242001, -0.14630129855480967], \"stackedsetosa\": [-9.55087933947052e-05, 0.29740798127519397, -0.4831725631135053, -0.22312761755144164], \"midvirginica\": [0.2730145677233651, 0.5787104529475346, -0.9218997543055174, -0.8682886676283363], \"catversicolor\": [\"sepal length (cm):0.5\", \"sepal width (cm):0.5\", \"petal length (cm):0.5\", \"petal width (cm):0.5\"], \"midsetosa\": [-9.55087933947052e-05, 0.29740798127519397, -0.4831725631135053, -0.22312761755144164], \"stackedversicolor\": [-0.003917904106866932, 0.6843186083642956, -1.2354308438512107, -0.592556533657693], \"cat\": [\"sepal length (cm)\", \"sepal width (cm)\", \"petal length (cm)\", \"petal width (cm)\"], \"width\": [0.8, 0.8, 0.8, 0.8], \"zero\": [0.5383843448197857, 1.9312421600732725, -3.3483160700864456, -2.4754351674691755], \"stackedvirginica\": [0.2653697770964206, 1.352531707125738, -2.426416315780928, -1.607146499840839], \"versicolor\": [-0.007453773040155043, 0.1790052916278153, -0.5381714352484002, -0.29260259710961933], \"catsetosa\": [\"sepal length (cm):0.25\", \"sepal width (cm):0.25\", \"petal length (cm):0.25\", \"petal width (cm):0.25\"], \"virginica\": [0.5460291354467302, 1.1574209058950693, -1.8437995086110348, -1.7365773352566727], \"catvirginica\": [\"sepal length (cm):0.75\", \"sepal width (cm):0.75\", \"petal length (cm):0.75\", \"petal width (cm):0.75\"], \"setosa\": [-0.0001910175867894104, 0.5948159625503879, -0.9663451262270106, -0.4462552351028833]}, \"id\": \"254f2361-3c33-4f19-9a37-cbb05650ea1e\"}, \"type\": \"ColumnDataSource\", \"id\": \"254f2361-3c33-4f19-9a37-cbb05650ea1e\"}, {\"attributes\": {\"plot\": {\"subtype\": \"LegacyChart\", \"type\": \"Plot\", \"id\": \"fc247943-8f0c-442e-a0fc-9d7f90bf235c\"}, \"tags\": [], \"doc\": null, \"dimension\": 1, \"ticker\": {\"type\": \"BasicTicker\", \"id\": \"4887e098-b992-4e72-8787-08231bcb2d93\"}, \"id\": \"752a1b35-71ba-42c1-a86a-f0744d2780de\"}, \"type\": \"Grid\", \"id\": \"752a1b35-71ba-42c1-a86a-f0744d2780de\"}, {\"attributes\": {\"end\": 1.2731629964845763, \"callback\": null, \"doc\": null, \"tags\": [], \"start\": -2.0281794594721383, \"id\": \"40ad0257-9b6e-41d7-b7d2-e26711d2571e\"}, \"type\": \"Range1d\", \"id\": \"40ad0257-9b6e-41d7-b7d2-e26711d2571e\"}, {\"attributes\": {\"plot\": {\"subtype\": \"LegacyChart\", \"type\": \"Plot\", \"id\": \"fc247943-8f0c-442e-a0fc-9d7f90bf235c\"}, \"orientation\": \"top_right\", \"tags\": [], \"doc\": null, \"id\": \"2f184ae7-3966-446d-9ce7-48a0aae8f1ee\", \"legends\": [[\"setosa\", [{\"type\": \"GlyphRenderer\", \"id\": \"f7ce314a-2393-4f22-85e0-509c71f60cc8\"}]], [\"versicolor\", [{\"type\": \"GlyphRenderer\", \"id\": \"9d364ad9-8b8b-4118-a394-4d11ad4bcf54\"}]], [\"virginica\", [{\"type\": \"GlyphRenderer\", \"id\": \"de2dbf4e-cba5-4725-8716-940d0d48ba41\"}]]]}, \"type\": \"Legend\", \"id\": \"2f184ae7-3966-446d-9ce7-48a0aae8f1ee\"}, {\"attributes\": {\"line_color\": {\"value\": \"white\"}, \"fill_color\": {\"value\": \"#f22c40\"}, \"tags\": [], \"doc\": null, \"fill_alpha\": {\"value\": 0.7}, \"height\": {\"units\": \"data\", \"field\": \"setosa\"}, \"width\": {\"units\": \"data\", \"field\": \"width_cat\"}, \"y\": {\"field\": \"midsetosa\"}, \"x\": {\"field\": \"catsetosa\"}, \"id\": \"e78ee15d-b819-491d-9701-65b5684fd852\"}, \"type\": \"Rect\", \"id\": \"e78ee15d-b819-491d-9701-65b5684fd852\"}, {\"attributes\": {\"nonselection_glyph\": null, \"data_source\": {\"type\": \"ColumnDataSource\", \"id\": \"254f2361-3c33-4f19-9a37-cbb05650ea1e\"}, \"tags\": [], \"doc\": null, \"selection_glyph\": null, \"id\": \"f7ce314a-2393-4f22-85e0-509c71f60cc8\", \"glyph\": {\"type\": \"Rect\", \"id\": \"e78ee15d-b819-491d-9701-65b5684fd852\"}}, \"type\": \"GlyphRenderer\", \"id\": \"f7ce314a-2393-4f22-85e0-509c71f60cc8\"}, {\"attributes\": {\"line_color\": {\"value\": \"white\"}, \"fill_color\": {\"value\": \"#407ee7\"}, \"tags\": [], \"doc\": null, \"fill_alpha\": {\"value\": 0.7}, \"height\": {\"units\": \"data\", \"field\": \"virginica\"}, \"width\": {\"units\": \"data\", \"field\": \"width_cat\"}, \"y\": {\"field\": \"midvirginica\"}, \"x\": {\"field\": \"catvirginica\"}, \"id\": \"3ca7a074-6ea3-4ad8-a7e5-9373f47601a8\"}, \"type\": \"Rect\", \"id\": \"3ca7a074-6ea3-4ad8-a7e5-9373f47601a8\"}, {\"attributes\": {\"doc\": null, \"id\": \"4f378e68-79b6-4f62-9655-14df02eba2e4\", \"tags\": []}, \"type\": \"CategoricalTicker\", \"id\": \"4f378e68-79b6-4f62-9655-14df02eba2e4\"}, {\"attributes\": {\"plot\": {\"subtype\": \"LegacyChart\", \"type\": \"Plot\", \"id\": \"fc247943-8f0c-442e-a0fc-9d7f90bf235c\"}, \"dimensions\": [\"width\", \"height\"], \"tags\": [], \"doc\": null, \"id\": \"0277cf6d-5fc2-4ee7-8d7a-4213ae17b709\"}, \"type\": \"PanTool\", \"id\": \"0277cf6d-5fc2-4ee7-8d7a-4213ae17b709\"}, {\"attributes\": {\"line_color\": {\"value\": \"white\"}, \"fill_color\": {\"value\": \"#5ab738\"}, \"tags\": [], \"doc\": null, \"fill_alpha\": {\"value\": 0.7}, \"height\": {\"units\": \"data\", \"field\": \"versicolor\"}, \"width\": {\"units\": \"data\", \"field\": \"width_cat\"}, \"y\": {\"field\": \"midversicolor\"}, \"x\": {\"field\": \"catversicolor\"}, \"id\": \"624f7585-7b9f-4dfa-b737-3f656de9ac93\"}, \"type\": \"Rect\", \"id\": \"624f7585-7b9f-4dfa-b737-3f656de9ac93\"}, {\"attributes\": {\"nonselection_glyph\": null, \"data_source\": {\"type\": \"ColumnDataSource\", \"id\": \"254f2361-3c33-4f19-9a37-cbb05650ea1e\"}, \"tags\": [], \"doc\": null, \"selection_glyph\": null, \"id\": \"9d364ad9-8b8b-4118-a394-4d11ad4bcf54\", \"glyph\": {\"type\": \"Rect\", \"id\": \"624f7585-7b9f-4dfa-b737-3f656de9ac93\"}}, \"type\": \"GlyphRenderer\", \"id\": \"9d364ad9-8b8b-4118-a394-4d11ad4bcf54\"}, {\"attributes\": {\"doc\": null, \"id\": \"7522fcf0-0f6f-49e4-939a-78c1d3d00f2c\", \"tags\": []}, \"type\": \"CategoricalTickFormatter\", \"id\": \"7522fcf0-0f6f-49e4-939a-78c1d3d00f2c\"}, {\"attributes\": {\"plot\": {\"subtype\": \"LegacyChart\", \"type\": \"Plot\", \"id\": \"fc247943-8f0c-442e-a0fc-9d7f90bf235c\"}, \"tags\": [], \"doc\": null, \"axis_label\": \"Linear Coefficient\", \"formatter\": {\"type\": \"BasicTickFormatter\", \"id\": \"b74061ad-0d8b-44ae-870b-57c785de60e3\"}, \"ticker\": {\"type\": \"BasicTicker\", \"id\": \"4887e098-b992-4e72-8787-08231bcb2d93\"}, \"id\": \"74a125ba-88b4-4417-9ffb-31d54f9a64db\"}, \"type\": \"LinearAxis\", \"id\": \"74a125ba-88b4-4417-9ffb-31d54f9a64db\"}, {\"attributes\": {\"plot\": {\"subtype\": \"LegacyChart\", \"type\": \"Plot\", \"id\": \"fc247943-8f0c-442e-a0fc-9d7f90bf235c\"}, \"dimensions\": [\"width\", \"height\"], \"tags\": [], \"doc\": null, \"id\": \"6e4d8e21-9697-476e-9995-26efabfb9523\"}, \"type\": \"WheelZoomTool\", \"id\": \"6e4d8e21-9697-476e-9995-26efabfb9523\"}, {\"attributes\": {\"tags\": [], \"doc\": null, \"mantissas\": [2, 5, 10], \"id\": \"4887e098-b992-4e72-8787-08231bcb2d93\"}, \"type\": \"BasicTicker\", \"id\": \"4887e098-b992-4e72-8787-08231bcb2d93\"}, {\"attributes\": {\"doc\": null, \"id\": \"b74061ad-0d8b-44ae-870b-57c785de60e3\", \"tags\": []}, \"type\": \"BasicTickFormatter\", \"id\": \"b74061ad-0d8b-44ae-870b-57c785de60e3\"}, {\"attributes\": {\"plot\": {\"subtype\": \"LegacyChart\", \"type\": \"Plot\", \"id\": \"fc247943-8f0c-442e-a0fc-9d7f90bf235c\"}, \"tags\": [], \"doc\": null, \"major_label_orientation\": 0.7853981633974483, \"axis_label\": \"Flowers\", \"formatter\": {\"type\": \"CategoricalTickFormatter\", \"id\": \"7522fcf0-0f6f-49e4-939a-78c1d3d00f2c\"}, \"ticker\": {\"type\": \"CategoricalTicker\", \"id\": \"4f378e68-79b6-4f62-9655-14df02eba2e4\"}, \"id\": \"4622a245-472d-460c-89ee-7549d83ab69a\"}, \"type\": \"CategoricalAxis\", \"id\": \"4622a245-472d-460c-89ee-7549d83ab69a\"}, {\"attributes\": {\"nonselection_glyph\": null, \"data_source\": {\"type\": \"ColumnDataSource\", \"id\": \"254f2361-3c33-4f19-9a37-cbb05650ea1e\"}, \"tags\": [], \"doc\": null, \"selection_glyph\": null, \"id\": \"de2dbf4e-cba5-4725-8716-940d0d48ba41\", \"glyph\": {\"type\": \"Rect\", \"id\": \"3ca7a074-6ea3-4ad8-a7e5-9373f47601a8\"}}, \"type\": \"GlyphRenderer\", \"id\": \"de2dbf4e-cba5-4725-8716-940d0d48ba41\"}, {\"attributes\": {\"plot\": {\"subtype\": \"LegacyChart\", \"type\": \"Plot\", \"id\": \"fc247943-8f0c-442e-a0fc-9d7f90bf235c\"}, \"dimensions\": [\"width\", \"height\"], \"tags\": [], \"doc\": null, \"id\": \"c7554f6e-a754-457d-8fa3-7f84a43eec52\"}, \"type\": \"BoxZoomTool\", \"id\": \"c7554f6e-a754-457d-8fa3-7f84a43eec52\"}];\n",
       "        Bokeh.load_models(all_models);\n",
       "        var plots = [{'modeltype': 'Plot', 'elementid': '7577db8e-2665-4549-98fa-7205dfa8f170', 'modelid': 'fc247943-8f0c-442e-a0fc-9d7f90bf235c'}];\n",
       "        for (idx in plots) {\n",
       "        \tvar plot = plots[idx];\n",
       "        \tvar model = Bokeh.Collections(plot.modeltype).get(plot.modelid);\n",
       "        \tBokeh.logger.info('Realizing plot:')\n",
       "        \tBokeh.logger.info(' - modeltype: ' + plot.modeltype);\n",
       "        \tBokeh.logger.info(' - modelid: ' + plot.modelid);\n",
       "        \tBokeh.logger.info(' - elementid: ' + plot.elementid);\n",
       "        \tvar view = new model.default_view({\n",
       "        \t\tmodel: model,\n",
       "        \t\tel: '#' + plot.elementid\n",
       "        \t});\n",
       "        \tBokeh.index[plot.modelid] = view;\n",
       "        }\n",
       "    });\n",
       "    </script>\n",
       "<div class=\"plotdiv\" id=\"7577db8e-2665-4549-98fa-7205dfa8f170\"></div>\n",
       "\n"
      ]
     },
     "metadata": {},
     "output_type": "display_data"
    }
   ],
   "source": [
    "p=Bar(data, cat = list(iris.columns), title=\"SVC Feature Importance\",xlabel='Flowers', ylabel='Linear Coefficient', width=600, height=600, legend=\"top_right\")\n",
    "show(p)"
   ]
  },
  {
   "cell_type": "code",
   "execution_count": 9,
   "metadata": {
    "collapsed": false
   },
   "outputs": [
    {
     "name": "stdout",
     "output_type": "stream",
     "text": [
      "             precision    recall  f1-score   support\n",
      "\n",
      "          0       1.00      1.00      1.00        22\n",
      "          1       0.94      0.94      0.94        18\n",
      "          2       0.95      0.95      0.95        20\n",
      "\n",
      "avg / total       0.97      0.97      0.97        60\n",
      "\n"
     ]
    }
   ],
   "source": [
    "model = SVC(kernel='rbf',C=1).fit(X.iloc[train],y[train])\n",
    "print classification_report(y[test],model.predict(X.iloc[test]))"
   ]
  },
  {
   "cell_type": "markdown",
   "metadata": {},
   "source": [
    "\n",
    "Today we'll be working with a mushroom dataset. If you're lost in a forest and find a gill capped mushroom and have access to your SVM classifier, you'll hopefully be prepared to see if it's poisonous! Humor aside, we'll see the power of an SVM working with a large number of attributes to separate two classes of data.\n",
    "\n",
    "The attributes are:\n",
    "1. cap-shape: bell=b,conical=c,convex=x,flat=f, knobbed=k,sunken=s \n",
    "2. cap-surface: fibrous=f,grooves=g,scaly=y,smooth=s \n",
    "3. cap-color: brown=n,buff=b,cinnamon=c,gray=g,green=r, pink=p,purple=u,red=e,white=w,yellow=y \n",
    "4. bruises?: bruises=t,no=f \n",
    "5. odor: almond=a,anise=l,creosote=c,fishy=y,foul=f, musty=m,none=n,pungent=p,spicy=s \n",
    "6. gill-attachment: attached=a,descending=d,free=f,notched=n \n",
    "7. gill-spacing: close=c,crowded=w,distant=d \n",
    "8. gill-size: broad=b,narrow=n \n",
    "9. gill-color: black=k,brown=n,buff=b,chocolate=h,gray=g, green=r,orange=o,pink=p,purple=u,red=e, white=w,yellow=y \n",
    "10. stalk-shape: enlarging=e,tapering=t \n",
    "11. stalk-root: bulbous=b,club=c,cup=u,equal=e, rhizomorphs=z,rooted=r,missing=? \n",
    "12. stalk-surface-above-ring: fibrous=f,scaly=y,silky=k,smooth=s \n",
    "13. stalk-surface-below-ring: fibrous=f,scaly=y,silky=k,smooth=s \n",
    "14. stalk-color-above-ring: brown=n,buff=b,cinnamon=c,gray=g,orange=o, pink=p,red=e,white=w,yellow=y \n",
    "15. stalk-color-below-ring: brown=n,buff=b,cinnamon=c,gray=g,orange=o, pink=p,red=e,white=w,yellow=y \n",
    "16. veil-type: partial=p,universal=u \n",
    "17. veil-color: brown=n,orange=o,white=w,yellow=y \n",
    "18. ring-number: none=n,one=o,two=t \n",
    "19. ring-type: cobwebby=c,evanescent=e,flaring=f,large=l, none=n,pendant=p,sheathing=s,zone=z \n",
    "20. spore-print-color: black=k,brown=n,buff=b,chocolate=h,green=r, orange=o,purple=u,white=w,yellow=y \n",
    "21. population: abundant=a,clustered=c,numerous=n, scattered=s,several=v,solitary=y \n",
    "22. habitat: grasses=g,leaves=l,meadows=m,paths=p, urban=u,waste=w,woods=d\n",
    "\n",
    "\n",
    "Because of the structure of the categories, I'm going to create a column:categories dictionary. First step is to put the data into a doc-string which is a special string defined by three apostrophes. The string accepts new lines and ends only when it sees another three apostrophes."
   ]
  },
  {
   "cell_type": "code",
   "execution_count": 10,
   "metadata": {
    "collapsed": false,
    "scrolled": true
   },
   "outputs": [
    {
     "data": {
      "text/plain": [
       "['cap-shape: bell=b,conical=c,convex=x,flat=f, knobbed=k,sunken=s ',\n",
       " 'cap-surface: fibrous=f,grooves=g,scaly=y,smooth=s ',\n",
       " 'cap-color: brown=n,buff=b,cinnamon=c,gray=g,green=r, pink=p,purple=u,red=e,white=w,yellow=y ',\n",
       " 'bruises?: bruises=t,no=f ',\n",
       " 'odor: almond=a,anise=l,creosote=c,fishy=y,foul=f, musty=m,none=n,pungent=p,spicy=s ',\n",
       " 'gill-attachment: attached=a,descending=d,free=f,notched=n ',\n",
       " 'gill-spacing: close=c,crowded=w,distant=d ',\n",
       " 'gill-size: broad=b,narrow=n ',\n",
       " 'gill-color: black=k,brown=n,buff=b,chocolate=h,gray=g, green=r,orange=o,pink=p,purple=u,red=e, white=w,yellow=y ',\n",
       " 'stalk-shape: enlarging=e,tapering=t ',\n",
       " 'stalk-root: bulbous=b,club=c,cup=u,equal=e, rhizomorphs=z,rooted=r,missing=? ',\n",
       " 'stalk-surface-above-ring: fibrous=f,scaly=y,silky=k,smooth=s ',\n",
       " 'stalk-surface-below-ring: fibrous=f,scaly=y,silky=k,smooth=s ',\n",
       " 'stalk-color-above-ring: brown=n,buff=b,cinnamon=c,gray=g,orange=o, pink=p,red=e,white=w,yellow=y ',\n",
       " 'stalk-color-below-ring: brown=n,buff=b,cinnamon=c,gray=g,orange=o, pink=p,red=e,white=w,yellow=y ',\n",
       " 'veil-type: partial=p,universal=u ',\n",
       " 'veil-color: brown=n,orange=o,white=w,yellow=y ',\n",
       " 'ring-number: none=n,one=o,two=t ',\n",
       " 'ring-type: cobwebby=c,evanescent=e,flaring=f,large=l, none=n,pendant=p,sheathing=s,zone=z ',\n",
       " 'spore-print-color: black=k,brown=n,buff=b,chocolate=h,green=r, orange=o,purple=u,white=w,yellow=y ',\n",
       " 'population: abundant=a,clustered=c,numerous=n, scattered=s,several=v,solitary=y ',\n",
       " 'habitat: grasses=g,leaves=l,meadows=m,paths=p, urban=u,waste=w,woods=d']"
      ]
     },
     "execution_count": 10,
     "metadata": {},
     "output_type": "execute_result"
    }
   ],
   "source": [
    "attributes = '''cap-shape: bell=b,conical=c,convex=x,flat=f, knobbed=k,sunken=s \n",
    "cap-surface: fibrous=f,grooves=g,scaly=y,smooth=s \n",
    "cap-color: brown=n,buff=b,cinnamon=c,gray=g,green=r, pink=p,purple=u,red=e,white=w,yellow=y \n",
    "bruises?: bruises=t,no=f \n",
    "odor: almond=a,anise=l,creosote=c,fishy=y,foul=f, musty=m,none=n,pungent=p,spicy=s \n",
    "gill-attachment: attached=a,descending=d,free=f,notched=n \n",
    "gill-spacing: close=c,crowded=w,distant=d \n",
    "gill-size: broad=b,narrow=n \n",
    "gill-color: black=k,brown=n,buff=b,chocolate=h,gray=g, green=r,orange=o,pink=p,purple=u,red=e, white=w,yellow=y \n",
    "stalk-shape: enlarging=e,tapering=t \n",
    "stalk-root: bulbous=b,club=c,cup=u,equal=e, rhizomorphs=z,rooted=r,missing=? \n",
    "stalk-surface-above-ring: fibrous=f,scaly=y,silky=k,smooth=s \n",
    "stalk-surface-below-ring: fibrous=f,scaly=y,silky=k,smooth=s \n",
    "stalk-color-above-ring: brown=n,buff=b,cinnamon=c,gray=g,orange=o, pink=p,red=e,white=w,yellow=y \n",
    "stalk-color-below-ring: brown=n,buff=b,cinnamon=c,gray=g,orange=o, pink=p,red=e,white=w,yellow=y \n",
    "veil-type: partial=p,universal=u \n",
    "veil-color: brown=n,orange=o,white=w,yellow=y \n",
    "ring-number: none=n,one=o,two=t \n",
    "ring-type: cobwebby=c,evanescent=e,flaring=f,large=l, none=n,pendant=p,sheathing=s,zone=z \n",
    "spore-print-color: black=k,brown=n,buff=b,chocolate=h,green=r, orange=o,purple=u,white=w,yellow=y \n",
    "population: abundant=a,clustered=c,numerous=n, scattered=s,several=v,solitary=y \n",
    "habitat: grasses=g,leaves=l,meadows=m,paths=p, urban=u,waste=w,woods=d'''\n",
    "attributes_list = attributes.split('\\n')\n",
    "attributes_list"
   ]
  },
  {
   "cell_type": "code",
   "execution_count": 11,
   "metadata": {
    "collapsed": false
   },
   "outputs": [
    {
     "data": {
      "text/plain": [
       "{'bruises?': {'f': 'no', 't': 'bruises'},\n",
       " 'cap-color': {'b': 'buff',\n",
       "  'c': 'cinnamon',\n",
       "  'e': 'red',\n",
       "  'g': 'gray',\n",
       "  'n': 'brown',\n",
       "  'p': ' pink',\n",
       "  'r': 'green',\n",
       "  'u': 'purple',\n",
       "  'w': 'white',\n",
       "  'y': 'yellow'},\n",
       " 'cap-shape': {'b': 'bell',\n",
       "  'c': 'conical',\n",
       "  'f': 'flat',\n",
       "  'k': ' knobbed',\n",
       "  's': 'sunken',\n",
       "  'x': 'convex'},\n",
       " 'cap-surface': {'f': 'fibrous', 'g': 'grooves', 's': 'smooth', 'y': 'scaly'},\n",
       " 'gill-attachment': {'a': 'attached',\n",
       "  'd': 'descending',\n",
       "  'f': 'free',\n",
       "  'n': 'notched'},\n",
       " 'gill-color': {'b': 'buff',\n",
       "  'e': 'red',\n",
       "  'g': 'gray',\n",
       "  'h': 'chocolate',\n",
       "  'k': 'black',\n",
       "  'n': 'brown',\n",
       "  'o': 'orange',\n",
       "  'p': 'pink',\n",
       "  'r': ' green',\n",
       "  'u': 'purple',\n",
       "  'w': ' white',\n",
       "  'y': 'yellow'},\n",
       " 'gill-size': {'b': 'broad', 'n': 'narrow'},\n",
       " 'gill-spacing': {'c': 'close', 'd': 'distant', 'w': 'crowded'},\n",
       " 'habitat': {'d': 'woods',\n",
       "  'g': 'grasses',\n",
       "  'l': 'leaves',\n",
       "  'm': 'meadows',\n",
       "  'p': 'paths',\n",
       "  'u': ' urban',\n",
       "  'w': 'waste'},\n",
       " 'odor': {'a': 'almond',\n",
       "  'c': 'creosote',\n",
       "  'f': 'foul',\n",
       "  'l': 'anise',\n",
       "  'm': ' musty',\n",
       "  'n': 'none',\n",
       "  'p': 'pungent',\n",
       "  's': 'spicy',\n",
       "  'y': 'fishy'},\n",
       " 'population': {'a': 'abundant',\n",
       "  'c': 'clustered',\n",
       "  'n': 'numerous',\n",
       "  's': ' scattered',\n",
       "  'v': 'several',\n",
       "  'y': 'solitary'},\n",
       " 'ring-number': {'n': 'none', 'o': 'one', 't': 'two'},\n",
       " 'ring-type': {'c': 'cobwebby',\n",
       "  'e': 'evanescent',\n",
       "  'f': 'flaring',\n",
       "  'l': 'large',\n",
       "  'n': ' none',\n",
       "  'p': 'pendant',\n",
       "  's': 'sheathing',\n",
       "  'z': 'zone'},\n",
       " 'spore-print-color': {'b': 'buff',\n",
       "  'h': 'chocolate',\n",
       "  'k': 'black',\n",
       "  'n': 'brown',\n",
       "  'o': ' orange',\n",
       "  'r': 'green',\n",
       "  'u': 'purple',\n",
       "  'w': 'white',\n",
       "  'y': 'yellow'},\n",
       " 'stalk-color-above-ring': {'b': 'buff',\n",
       "  'c': 'cinnamon',\n",
       "  'e': 'red',\n",
       "  'g': 'gray',\n",
       "  'n': 'brown',\n",
       "  'o': 'orange',\n",
       "  'p': ' pink',\n",
       "  'w': 'white',\n",
       "  'y': 'yellow'},\n",
       " 'stalk-color-below-ring': {'b': 'buff',\n",
       "  'c': 'cinnamon',\n",
       "  'e': 'red',\n",
       "  'g': 'gray',\n",
       "  'n': 'brown',\n",
       "  'o': 'orange',\n",
       "  'p': ' pink',\n",
       "  'w': 'white',\n",
       "  'y': 'yellow'},\n",
       " 'stalk-root': {'?': 'missing',\n",
       "  'b': 'bulbous',\n",
       "  'c': 'club',\n",
       "  'e': 'equal',\n",
       "  'r': 'rooted',\n",
       "  'u': 'cup',\n",
       "  'z': ' rhizomorphs'},\n",
       " 'stalk-shape': {'e': 'enlarging', 't': 'tapering'},\n",
       " 'stalk-surface-above-ring': {'f': 'fibrous',\n",
       "  'k': 'silky',\n",
       "  's': 'smooth',\n",
       "  'y': 'scaly'},\n",
       " 'stalk-surface-below-ring': {'f': 'fibrous',\n",
       "  'k': 'silky',\n",
       "  's': 'smooth',\n",
       "  'y': 'scaly'},\n",
       " 'veil-color': {'n': 'brown', 'o': 'orange', 'w': 'white', 'y': 'yellow'},\n",
       " 'veil-type': {'p': 'partial', 'u': 'universal'}}"
      ]
     },
     "execution_count": 11,
     "metadata": {},
     "output_type": "execute_result"
    }
   ],
   "source": [
    "ordered_attributes = []\n",
    "data_attributes = {}\n",
    "for att in attributes_list:\n",
    "    #Break our string into the column name and categories\n",
    "    col_data_split = att.split(': ')\n",
    "    #next, we split our category labels into a list of name=value\n",
    "    cat_labels = col_data_split[1].split(',')\n",
    "    \n",
    "    # lets now extract only our values (our data is pure letters) and value names. We'll do a \n",
    "    # dict comprehension that extracts the second value of a list after splitting on the =.\n",
    "    \n",
    "    #I split second on the spaces because there are some trailing spaces in my string\n",
    "    cats = {x.split('=')[1].split(' ')[0]:x.split('=')[0] for x in cat_labels}\n",
    "    #Now lets populate our columns dictionary defining a key, columns, and the values, our list\n",
    "    # called cats here\n",
    "    data_attributes[col_data_split[0]] = cats\n",
    "    \n",
    "    # we also want an ordered list to declare as the columns for our dataframe\n",
    "    ordered_attributes.append(col_data_split[0])\n",
    "\n",
    "\n",
    "data_attributes"
   ]
  },
  {
   "cell_type": "code",
   "execution_count": 12,
   "metadata": {
    "collapsed": false
   },
   "outputs": [
    {
     "data": {
      "text/html": [
       "<div>\n",
       "<table border=\"1\" class=\"dataframe\">\n",
       "  <thead>\n",
       "    <tr style=\"text-align: right;\">\n",
       "      <th></th>\n",
       "      <th>edible?</th>\n",
       "      <th>cap-shape</th>\n",
       "      <th>cap-surface</th>\n",
       "      <th>cap-color</th>\n",
       "      <th>bruises?</th>\n",
       "      <th>odor</th>\n",
       "      <th>gill-attachment</th>\n",
       "      <th>gill-spacing</th>\n",
       "      <th>gill-size</th>\n",
       "      <th>gill-color</th>\n",
       "      <th>...</th>\n",
       "      <th>stalk-surface-below-ring</th>\n",
       "      <th>stalk-color-above-ring</th>\n",
       "      <th>stalk-color-below-ring</th>\n",
       "      <th>veil-type</th>\n",
       "      <th>veil-color</th>\n",
       "      <th>ring-number</th>\n",
       "      <th>ring-type</th>\n",
       "      <th>spore-print-color</th>\n",
       "      <th>population</th>\n",
       "      <th>habitat</th>\n",
       "    </tr>\n",
       "  </thead>\n",
       "  <tbody>\n",
       "    <tr>\n",
       "      <th>0</th>\n",
       "      <td>p</td>\n",
       "      <td>x</td>\n",
       "      <td>s</td>\n",
       "      <td>n</td>\n",
       "      <td>t</td>\n",
       "      <td>p</td>\n",
       "      <td>f</td>\n",
       "      <td>c</td>\n",
       "      <td>n</td>\n",
       "      <td>k</td>\n",
       "      <td>...</td>\n",
       "      <td>s</td>\n",
       "      <td>w</td>\n",
       "      <td>w</td>\n",
       "      <td>p</td>\n",
       "      <td>w</td>\n",
       "      <td>o</td>\n",
       "      <td>p</td>\n",
       "      <td>k</td>\n",
       "      <td>s</td>\n",
       "      <td>u</td>\n",
       "    </tr>\n",
       "    <tr>\n",
       "      <th>1</th>\n",
       "      <td>e</td>\n",
       "      <td>x</td>\n",
       "      <td>s</td>\n",
       "      <td>y</td>\n",
       "      <td>t</td>\n",
       "      <td>a</td>\n",
       "      <td>f</td>\n",
       "      <td>c</td>\n",
       "      <td>b</td>\n",
       "      <td>k</td>\n",
       "      <td>...</td>\n",
       "      <td>s</td>\n",
       "      <td>w</td>\n",
       "      <td>w</td>\n",
       "      <td>p</td>\n",
       "      <td>w</td>\n",
       "      <td>o</td>\n",
       "      <td>p</td>\n",
       "      <td>n</td>\n",
       "      <td>n</td>\n",
       "      <td>g</td>\n",
       "    </tr>\n",
       "    <tr>\n",
       "      <th>2</th>\n",
       "      <td>e</td>\n",
       "      <td>b</td>\n",
       "      <td>s</td>\n",
       "      <td>w</td>\n",
       "      <td>t</td>\n",
       "      <td>l</td>\n",
       "      <td>f</td>\n",
       "      <td>c</td>\n",
       "      <td>b</td>\n",
       "      <td>n</td>\n",
       "      <td>...</td>\n",
       "      <td>s</td>\n",
       "      <td>w</td>\n",
       "      <td>w</td>\n",
       "      <td>p</td>\n",
       "      <td>w</td>\n",
       "      <td>o</td>\n",
       "      <td>p</td>\n",
       "      <td>n</td>\n",
       "      <td>n</td>\n",
       "      <td>m</td>\n",
       "    </tr>\n",
       "    <tr>\n",
       "      <th>3</th>\n",
       "      <td>p</td>\n",
       "      <td>x</td>\n",
       "      <td>y</td>\n",
       "      <td>w</td>\n",
       "      <td>t</td>\n",
       "      <td>p</td>\n",
       "      <td>f</td>\n",
       "      <td>c</td>\n",
       "      <td>n</td>\n",
       "      <td>n</td>\n",
       "      <td>...</td>\n",
       "      <td>s</td>\n",
       "      <td>w</td>\n",
       "      <td>w</td>\n",
       "      <td>p</td>\n",
       "      <td>w</td>\n",
       "      <td>o</td>\n",
       "      <td>p</td>\n",
       "      <td>k</td>\n",
       "      <td>s</td>\n",
       "      <td>u</td>\n",
       "    </tr>\n",
       "    <tr>\n",
       "      <th>4</th>\n",
       "      <td>e</td>\n",
       "      <td>x</td>\n",
       "      <td>s</td>\n",
       "      <td>g</td>\n",
       "      <td>f</td>\n",
       "      <td>n</td>\n",
       "      <td>f</td>\n",
       "      <td>w</td>\n",
       "      <td>b</td>\n",
       "      <td>k</td>\n",
       "      <td>...</td>\n",
       "      <td>s</td>\n",
       "      <td>w</td>\n",
       "      <td>w</td>\n",
       "      <td>p</td>\n",
       "      <td>w</td>\n",
       "      <td>o</td>\n",
       "      <td>e</td>\n",
       "      <td>n</td>\n",
       "      <td>a</td>\n",
       "      <td>g</td>\n",
       "    </tr>\n",
       "  </tbody>\n",
       "</table>\n",
       "<p>5 rows × 23 columns</p>\n",
       "</div>"
      ],
      "text/plain": [
       "  edible? cap-shape cap-surface cap-color bruises? odor gill-attachment  \\\n",
       "0       p         x           s         n        t    p               f   \n",
       "1       e         x           s         y        t    a               f   \n",
       "2       e         b           s         w        t    l               f   \n",
       "3       p         x           y         w        t    p               f   \n",
       "4       e         x           s         g        f    n               f   \n",
       "\n",
       "  gill-spacing gill-size gill-color   ...   stalk-surface-below-ring  \\\n",
       "0            c         n          k   ...                          s   \n",
       "1            c         b          k   ...                          s   \n",
       "2            c         b          n   ...                          s   \n",
       "3            c         n          n   ...                          s   \n",
       "4            w         b          k   ...                          s   \n",
       "\n",
       "  stalk-color-above-ring stalk-color-below-ring veil-type veil-color  \\\n",
       "0                      w                      w         p          w   \n",
       "1                      w                      w         p          w   \n",
       "2                      w                      w         p          w   \n",
       "3                      w                      w         p          w   \n",
       "4                      w                      w         p          w   \n",
       "\n",
       "  ring-number ring-type spore-print-color population habitat  \n",
       "0           o         p                 k          s       u  \n",
       "1           o         p                 n          n       g  \n",
       "2           o         p                 n          n       m  \n",
       "3           o         p                 k          s       u  \n",
       "4           o         e                 n          a       g  \n",
       "\n",
       "[5 rows x 23 columns]"
      ]
     },
     "execution_count": 12,
     "metadata": {},
     "output_type": "execute_result"
    }
   ],
   "source": [
    "mush = pd.read_csv('../data/mushrooms.data',header=None,names=['edible?']+ordered_attributes)\n",
    "mush.head()"
   ]
  },
  {
   "cell_type": "markdown",
   "metadata": {},
   "source": [
    "Let's have verbose names for our data by using .map()"
   ]
  },
  {
   "cell_type": "code",
   "execution_count": 13,
   "metadata": {
    "collapsed": false
   },
   "outputs": [
    {
     "data": {
      "text/plain": [
       "Index([u'edible?', u'cap-shape', u'cap-surface', u'cap-color', u'bruises?',\n",
       "       u'odor', u'gill-attachment', u'gill-spacing', u'gill-size',\n",
       "       u'gill-color', u'stalk-shape', u'stalk-root',\n",
       "       u'stalk-surface-above-ring', u'stalk-surface-below-ring',\n",
       "       u'stalk-color-above-ring', u'stalk-color-below-ring', u'veil-type',\n",
       "       u'veil-color', u'ring-number', u'ring-type', u'spore-print-color',\n",
       "       u'population', u'habitat'],\n",
       "      dtype='object')"
      ]
     },
     "execution_count": 13,
     "metadata": {},
     "output_type": "execute_result"
    }
   ],
   "source": [
    "mush.columns"
   ]
  },
  {
   "cell_type": "code",
   "execution_count": 14,
   "metadata": {
    "collapsed": false
   },
   "outputs": [
    {
     "data": {
      "text/html": [
       "<div>\n",
       "<table border=\"1\" class=\"dataframe\">\n",
       "  <thead>\n",
       "    <tr style=\"text-align: right;\">\n",
       "      <th></th>\n",
       "      <th>edible?</th>\n",
       "      <th>cap-shape</th>\n",
       "      <th>cap-surface</th>\n",
       "      <th>cap-color</th>\n",
       "      <th>bruises?</th>\n",
       "      <th>odor</th>\n",
       "      <th>gill-attachment</th>\n",
       "      <th>gill-spacing</th>\n",
       "      <th>gill-size</th>\n",
       "      <th>gill-color</th>\n",
       "      <th>...</th>\n",
       "      <th>stalk-surface-below-ring</th>\n",
       "      <th>stalk-color-above-ring</th>\n",
       "      <th>stalk-color-below-ring</th>\n",
       "      <th>veil-type</th>\n",
       "      <th>veil-color</th>\n",
       "      <th>ring-number</th>\n",
       "      <th>ring-type</th>\n",
       "      <th>spore-print-color</th>\n",
       "      <th>population</th>\n",
       "      <th>habitat</th>\n",
       "    </tr>\n",
       "  </thead>\n",
       "  <tbody>\n",
       "    <tr>\n",
       "      <th>0</th>\n",
       "      <td>p</td>\n",
       "      <td>convex</td>\n",
       "      <td>smooth</td>\n",
       "      <td>brown</td>\n",
       "      <td>bruises</td>\n",
       "      <td>pungent</td>\n",
       "      <td>free</td>\n",
       "      <td>close</td>\n",
       "      <td>narrow</td>\n",
       "      <td>black</td>\n",
       "      <td>...</td>\n",
       "      <td>smooth</td>\n",
       "      <td>white</td>\n",
       "      <td>white</td>\n",
       "      <td>partial</td>\n",
       "      <td>white</td>\n",
       "      <td>one</td>\n",
       "      <td>pendant</td>\n",
       "      <td>black</td>\n",
       "      <td>scattered</td>\n",
       "      <td>urban</td>\n",
       "    </tr>\n",
       "    <tr>\n",
       "      <th>1</th>\n",
       "      <td>e</td>\n",
       "      <td>convex</td>\n",
       "      <td>smooth</td>\n",
       "      <td>yellow</td>\n",
       "      <td>bruises</td>\n",
       "      <td>almond</td>\n",
       "      <td>free</td>\n",
       "      <td>close</td>\n",
       "      <td>broad</td>\n",
       "      <td>black</td>\n",
       "      <td>...</td>\n",
       "      <td>smooth</td>\n",
       "      <td>white</td>\n",
       "      <td>white</td>\n",
       "      <td>partial</td>\n",
       "      <td>white</td>\n",
       "      <td>one</td>\n",
       "      <td>pendant</td>\n",
       "      <td>brown</td>\n",
       "      <td>numerous</td>\n",
       "      <td>grasses</td>\n",
       "    </tr>\n",
       "    <tr>\n",
       "      <th>2</th>\n",
       "      <td>e</td>\n",
       "      <td>bell</td>\n",
       "      <td>smooth</td>\n",
       "      <td>white</td>\n",
       "      <td>bruises</td>\n",
       "      <td>anise</td>\n",
       "      <td>free</td>\n",
       "      <td>close</td>\n",
       "      <td>broad</td>\n",
       "      <td>brown</td>\n",
       "      <td>...</td>\n",
       "      <td>smooth</td>\n",
       "      <td>white</td>\n",
       "      <td>white</td>\n",
       "      <td>partial</td>\n",
       "      <td>white</td>\n",
       "      <td>one</td>\n",
       "      <td>pendant</td>\n",
       "      <td>brown</td>\n",
       "      <td>numerous</td>\n",
       "      <td>meadows</td>\n",
       "    </tr>\n",
       "    <tr>\n",
       "      <th>3</th>\n",
       "      <td>p</td>\n",
       "      <td>convex</td>\n",
       "      <td>scaly</td>\n",
       "      <td>white</td>\n",
       "      <td>bruises</td>\n",
       "      <td>pungent</td>\n",
       "      <td>free</td>\n",
       "      <td>close</td>\n",
       "      <td>narrow</td>\n",
       "      <td>brown</td>\n",
       "      <td>...</td>\n",
       "      <td>smooth</td>\n",
       "      <td>white</td>\n",
       "      <td>white</td>\n",
       "      <td>partial</td>\n",
       "      <td>white</td>\n",
       "      <td>one</td>\n",
       "      <td>pendant</td>\n",
       "      <td>black</td>\n",
       "      <td>scattered</td>\n",
       "      <td>urban</td>\n",
       "    </tr>\n",
       "    <tr>\n",
       "      <th>4</th>\n",
       "      <td>e</td>\n",
       "      <td>convex</td>\n",
       "      <td>smooth</td>\n",
       "      <td>gray</td>\n",
       "      <td>no</td>\n",
       "      <td>none</td>\n",
       "      <td>free</td>\n",
       "      <td>crowded</td>\n",
       "      <td>broad</td>\n",
       "      <td>black</td>\n",
       "      <td>...</td>\n",
       "      <td>smooth</td>\n",
       "      <td>white</td>\n",
       "      <td>white</td>\n",
       "      <td>partial</td>\n",
       "      <td>white</td>\n",
       "      <td>one</td>\n",
       "      <td>evanescent</td>\n",
       "      <td>brown</td>\n",
       "      <td>abundant</td>\n",
       "      <td>grasses</td>\n",
       "    </tr>\n",
       "  </tbody>\n",
       "</table>\n",
       "<p>5 rows × 23 columns</p>\n",
       "</div>"
      ],
      "text/plain": [
       "  edible? cap-shape cap-surface cap-color bruises?     odor gill-attachment  \\\n",
       "0       p    convex      smooth     brown  bruises  pungent            free   \n",
       "1       e    convex      smooth    yellow  bruises   almond            free   \n",
       "2       e      bell      smooth     white  bruises    anise            free   \n",
       "3       p    convex       scaly     white  bruises  pungent            free   \n",
       "4       e    convex      smooth      gray       no     none            free   \n",
       "\n",
       "  gill-spacing gill-size gill-color   ...    stalk-surface-below-ring  \\\n",
       "0        close    narrow      black   ...                      smooth   \n",
       "1        close     broad      black   ...                      smooth   \n",
       "2        close     broad      brown   ...                      smooth   \n",
       "3        close    narrow      brown   ...                      smooth   \n",
       "4      crowded     broad      black   ...                      smooth   \n",
       "\n",
       "  stalk-color-above-ring stalk-color-below-ring veil-type veil-color  \\\n",
       "0                  white                  white   partial      white   \n",
       "1                  white                  white   partial      white   \n",
       "2                  white                  white   partial      white   \n",
       "3                  white                  white   partial      white   \n",
       "4                  white                  white   partial      white   \n",
       "\n",
       "  ring-number   ring-type spore-print-color  population  habitat  \n",
       "0         one     pendant             black   scattered    urban  \n",
       "1         one     pendant             brown    numerous  grasses  \n",
       "2         one     pendant             brown    numerous  meadows  \n",
       "3         one     pendant             black   scattered    urban  \n",
       "4         one  evanescent             brown    abundant  grasses  \n",
       "\n",
       "[5 rows x 23 columns]"
      ]
     },
     "execution_count": 14,
     "metadata": {},
     "output_type": "execute_result"
    }
   ],
   "source": [
    "for col in mush.columns:\n",
    "    if col == 'edible?':\n",
    "        continue\n",
    "    mush[col] = mush[col].map(data_attributes[col])\n",
    "mush.head()"
   ]
  },
  {
   "cell_type": "markdown",
   "metadata": {},
   "source": [
    "Because of the sheer # of attributes in this dataset, we will work with a subset of the data."
   ]
  },
  {
   "cell_type": "code",
   "execution_count": 15,
   "metadata": {
    "collapsed": false,
    "scrolled": true
   },
   "outputs": [
    {
     "name": "stdout",
     "output_type": "stream",
     "text": [
      "<class 'pandas.core.frame.DataFrame'>\n",
      "Int64Index: 8124 entries, 0 to 8123\n",
      "Data columns (total 4 columns):\n",
      "edible?        8124 non-null object\n",
      "cap-shape      8124 non-null object\n",
      "cap-color      8124 non-null object\n",
      "cap-surface    8124 non-null object\n",
      "dtypes: object(4)\n",
      "memory usage: 317.3+ KB\n"
     ]
    }
   ],
   "source": [
    "mush_small = mush[['edible?','cap-shape','cap-color','cap-surface']]\n",
    "mush_small.info()"
   ]
  },
  {
   "cell_type": "markdown",
   "metadata": {},
   "source": [
    "We'll now convert them into binary features using `pd.get_dummies` function"
   ]
  },
  {
   "cell_type": "code",
   "execution_count": 16,
   "metadata": {
    "collapsed": false
   },
   "outputs": [
    {
     "data": {
      "text/html": [
       "<div>\n",
       "<table border=\"1\" class=\"dataframe\">\n",
       "  <thead>\n",
       "    <tr style=\"text-align: right;\">\n",
       "      <th></th>\n",
       "      <th>knobbed</th>\n",
       "      <th>bell</th>\n",
       "      <th>conical</th>\n",
       "      <th>convex</th>\n",
       "      <th>flat</th>\n",
       "      <th>sunken</th>\n",
       "    </tr>\n",
       "  </thead>\n",
       "  <tbody>\n",
       "    <tr>\n",
       "      <th>0</th>\n",
       "      <td>0</td>\n",
       "      <td>0</td>\n",
       "      <td>0</td>\n",
       "      <td>1</td>\n",
       "      <td>0</td>\n",
       "      <td>0</td>\n",
       "    </tr>\n",
       "    <tr>\n",
       "      <th>1</th>\n",
       "      <td>0</td>\n",
       "      <td>0</td>\n",
       "      <td>0</td>\n",
       "      <td>1</td>\n",
       "      <td>0</td>\n",
       "      <td>0</td>\n",
       "    </tr>\n",
       "    <tr>\n",
       "      <th>2</th>\n",
       "      <td>0</td>\n",
       "      <td>1</td>\n",
       "      <td>0</td>\n",
       "      <td>0</td>\n",
       "      <td>0</td>\n",
       "      <td>0</td>\n",
       "    </tr>\n",
       "    <tr>\n",
       "      <th>3</th>\n",
       "      <td>0</td>\n",
       "      <td>0</td>\n",
       "      <td>0</td>\n",
       "      <td>1</td>\n",
       "      <td>0</td>\n",
       "      <td>0</td>\n",
       "    </tr>\n",
       "    <tr>\n",
       "      <th>4</th>\n",
       "      <td>0</td>\n",
       "      <td>0</td>\n",
       "      <td>0</td>\n",
       "      <td>1</td>\n",
       "      <td>0</td>\n",
       "      <td>0</td>\n",
       "    </tr>\n",
       "  </tbody>\n",
       "</table>\n",
       "</div>"
      ],
      "text/plain": [
       "    knobbed  bell  conical  convex  flat  sunken\n",
       "0         0     0        0       1     0       0\n",
       "1         0     0        0       1     0       0\n",
       "2         0     1        0       0     0       0\n",
       "3         0     0        0       1     0       0\n",
       "4         0     0        0       1     0       0"
      ]
     },
     "execution_count": 16,
     "metadata": {},
     "output_type": "execute_result"
    }
   ],
   "source": [
    "pd.get_dummies(mush_small['cap-shape']).head()"
   ]
  },
  {
   "cell_type": "code",
   "execution_count": 17,
   "metadata": {
    "collapsed": false
   },
   "outputs": [
    {
     "data": {
      "text/html": [
       "<div>\n",
       "<table border=\"1\" class=\"dataframe\">\n",
       "  <thead>\n",
       "    <tr style=\"text-align: right;\">\n",
       "      <th></th>\n",
       "      <th>edible?</th>\n",
       "      <th>cap-shape_ knobbed</th>\n",
       "      <th>cap-shape_bell</th>\n",
       "      <th>cap-shape_conical</th>\n",
       "      <th>cap-shape_convex</th>\n",
       "      <th>cap-shape_flat</th>\n",
       "      <th>cap-shape_sunken</th>\n",
       "      <th>cap-color_ pink</th>\n",
       "      <th>cap-color_brown</th>\n",
       "      <th>cap-color_buff</th>\n",
       "      <th>...</th>\n",
       "      <th>cap-color_gray</th>\n",
       "      <th>cap-color_green</th>\n",
       "      <th>cap-color_purple</th>\n",
       "      <th>cap-color_red</th>\n",
       "      <th>cap-color_white</th>\n",
       "      <th>cap-color_yellow</th>\n",
       "      <th>cap-surface_fibrous</th>\n",
       "      <th>cap-surface_grooves</th>\n",
       "      <th>cap-surface_scaly</th>\n",
       "      <th>cap-surface_smooth</th>\n",
       "    </tr>\n",
       "  </thead>\n",
       "  <tbody>\n",
       "    <tr>\n",
       "      <th>0</th>\n",
       "      <td>0</td>\n",
       "      <td>0</td>\n",
       "      <td>0</td>\n",
       "      <td>0</td>\n",
       "      <td>1</td>\n",
       "      <td>0</td>\n",
       "      <td>0</td>\n",
       "      <td>0</td>\n",
       "      <td>1</td>\n",
       "      <td>0</td>\n",
       "      <td>...</td>\n",
       "      <td>0</td>\n",
       "      <td>0</td>\n",
       "      <td>0</td>\n",
       "      <td>0</td>\n",
       "      <td>0</td>\n",
       "      <td>0</td>\n",
       "      <td>0</td>\n",
       "      <td>0</td>\n",
       "      <td>0</td>\n",
       "      <td>1</td>\n",
       "    </tr>\n",
       "    <tr>\n",
       "      <th>1</th>\n",
       "      <td>1</td>\n",
       "      <td>0</td>\n",
       "      <td>0</td>\n",
       "      <td>0</td>\n",
       "      <td>1</td>\n",
       "      <td>0</td>\n",
       "      <td>0</td>\n",
       "      <td>0</td>\n",
       "      <td>0</td>\n",
       "      <td>0</td>\n",
       "      <td>...</td>\n",
       "      <td>0</td>\n",
       "      <td>0</td>\n",
       "      <td>0</td>\n",
       "      <td>0</td>\n",
       "      <td>0</td>\n",
       "      <td>1</td>\n",
       "      <td>0</td>\n",
       "      <td>0</td>\n",
       "      <td>0</td>\n",
       "      <td>1</td>\n",
       "    </tr>\n",
       "    <tr>\n",
       "      <th>2</th>\n",
       "      <td>1</td>\n",
       "      <td>0</td>\n",
       "      <td>1</td>\n",
       "      <td>0</td>\n",
       "      <td>0</td>\n",
       "      <td>0</td>\n",
       "      <td>0</td>\n",
       "      <td>0</td>\n",
       "      <td>0</td>\n",
       "      <td>0</td>\n",
       "      <td>...</td>\n",
       "      <td>0</td>\n",
       "      <td>0</td>\n",
       "      <td>0</td>\n",
       "      <td>0</td>\n",
       "      <td>1</td>\n",
       "      <td>0</td>\n",
       "      <td>0</td>\n",
       "      <td>0</td>\n",
       "      <td>0</td>\n",
       "      <td>1</td>\n",
       "    </tr>\n",
       "    <tr>\n",
       "      <th>3</th>\n",
       "      <td>0</td>\n",
       "      <td>0</td>\n",
       "      <td>0</td>\n",
       "      <td>0</td>\n",
       "      <td>1</td>\n",
       "      <td>0</td>\n",
       "      <td>0</td>\n",
       "      <td>0</td>\n",
       "      <td>0</td>\n",
       "      <td>0</td>\n",
       "      <td>...</td>\n",
       "      <td>0</td>\n",
       "      <td>0</td>\n",
       "      <td>0</td>\n",
       "      <td>0</td>\n",
       "      <td>1</td>\n",
       "      <td>0</td>\n",
       "      <td>0</td>\n",
       "      <td>0</td>\n",
       "      <td>1</td>\n",
       "      <td>0</td>\n",
       "    </tr>\n",
       "    <tr>\n",
       "      <th>4</th>\n",
       "      <td>1</td>\n",
       "      <td>0</td>\n",
       "      <td>0</td>\n",
       "      <td>0</td>\n",
       "      <td>1</td>\n",
       "      <td>0</td>\n",
       "      <td>0</td>\n",
       "      <td>0</td>\n",
       "      <td>0</td>\n",
       "      <td>0</td>\n",
       "      <td>...</td>\n",
       "      <td>1</td>\n",
       "      <td>0</td>\n",
       "      <td>0</td>\n",
       "      <td>0</td>\n",
       "      <td>0</td>\n",
       "      <td>0</td>\n",
       "      <td>0</td>\n",
       "      <td>0</td>\n",
       "      <td>0</td>\n",
       "      <td>1</td>\n",
       "    </tr>\n",
       "  </tbody>\n",
       "</table>\n",
       "<p>5 rows × 21 columns</p>\n",
       "</div>"
      ],
      "text/plain": [
       "   edible?  cap-shape_ knobbed  cap-shape_bell  cap-shape_conical  \\\n",
       "0        0                   0               0                  0   \n",
       "1        1                   0               0                  0   \n",
       "2        1                   0               1                  0   \n",
       "3        0                   0               0                  0   \n",
       "4        1                   0               0                  0   \n",
       "\n",
       "   cap-shape_convex  cap-shape_flat  cap-shape_sunken  cap-color_ pink  \\\n",
       "0                 1               0                 0                0   \n",
       "1                 1               0                 0                0   \n",
       "2                 0               0                 0                0   \n",
       "3                 1               0                 0                0   \n",
       "4                 1               0                 0                0   \n",
       "\n",
       "   cap-color_brown  cap-color_buff         ...          cap-color_gray  \\\n",
       "0                1               0         ...                       0   \n",
       "1                0               0         ...                       0   \n",
       "2                0               0         ...                       0   \n",
       "3                0               0         ...                       0   \n",
       "4                0               0         ...                       1   \n",
       "\n",
       "   cap-color_green  cap-color_purple  cap-color_red  cap-color_white  \\\n",
       "0                0                 0              0                0   \n",
       "1                0                 0              0                0   \n",
       "2                0                 0              0                1   \n",
       "3                0                 0              0                1   \n",
       "4                0                 0              0                0   \n",
       "\n",
       "   cap-color_yellow  cap-surface_fibrous  cap-surface_grooves  \\\n",
       "0                 0                    0                    0   \n",
       "1                 1                    0                    0   \n",
       "2                 0                    0                    0   \n",
       "3                 0                    0                    0   \n",
       "4                 0                    0                    0   \n",
       "\n",
       "   cap-surface_scaly  cap-surface_smooth  \n",
       "0                  0                   1  \n",
       "1                  0                   1  \n",
       "2                  0                   1  \n",
       "3                  1                   0  \n",
       "4                  0                   1  \n",
       "\n",
       "[5 rows x 21 columns]"
      ]
     },
     "execution_count": 17,
     "metadata": {},
     "output_type": "execute_result"
    }
   ],
   "source": [
    "mush_small_code = pd.DataFrame(mush_small['edible?'].map({'p':0,'e':1}))\n",
    "\n",
    "for column in mush_small.columns:\n",
    "    if column == 'edible?':\n",
    "        continue\n",
    "    temp = pd.get_dummies(mush_small[column],prefix=column)\n",
    "    mush_small_code[temp.columns] = temp\n",
    "mush_small_code.head()\n",
    " "
   ]
  },
  {
   "cell_type": "code",
   "execution_count": 18,
   "metadata": {
    "collapsed": false
   },
   "outputs": [],
   "source": [
    "X= mush_small_code.drop('edible?',axis=1)\n",
    "y = mush_small_code['edible?']"
   ]
  },
  {
   "cell_type": "markdown",
   "metadata": {},
   "source": [
    "What is our baseline?"
   ]
  },
  {
   "cell_type": "code",
   "execution_count": 19,
   "metadata": {
    "collapsed": false
   },
   "outputs": [
    {
     "data": {
      "text/plain": [
       "1    0.517971\n",
       "0    0.482029\n",
       "Name: edible?, dtype: float64"
      ]
     },
     "execution_count": 19,
     "metadata": {},
     "output_type": "execute_result"
    }
   ],
   "source": [
    "y.value_counts()/float(len(y))"
   ]
  },
  {
   "cell_type": "markdown",
   "metadata": {},
   "source": [
    "Thus, a model that predicts always \"Edible\", has 51% accuracy"
   ]
  },
  {
   "cell_type": "code",
   "execution_count": 20,
   "metadata": {
    "collapsed": false
   },
   "outputs": [
    {
     "name": "stdout",
     "output_type": "stream",
     "text": [
      "             precision    recall  f1-score   support\n",
      "\n",
      "          0       0.62      0.81      0.70      1275\n",
      "          1       0.76      0.54      0.63      1406\n",
      "\n",
      "avg / total       0.69      0.67      0.66      2681\n",
      "\n"
     ]
    }
   ],
   "source": [
    "from sklearn.cross_validation import train_test_split\n",
    "\n",
    "X_train, X_test, y_train, y_test = train_test_split(X, y, test_size=0.33, random_state=0)\n",
    "\n",
    "model = SVC(C=1,kernel='linear').fit(X_train,y_train)\n",
    "print classification_report(y_test,model.predict(X_test))"
   ]
  },
  {
   "cell_type": "code",
   "execution_count": 21,
   "metadata": {
    "collapsed": false
   },
   "outputs": [
    {
     "name": "stdout",
     "output_type": "stream",
     "text": [
      "             precision    recall  f1-score   support\n",
      "\n",
      "          0       0.65      0.71      0.68      1275\n",
      "          1       0.71      0.65      0.68      1406\n",
      "\n",
      "avg / total       0.68      0.68      0.68      2681\n",
      "\n"
     ]
    }
   ],
   "source": [
    "model = SVC(C=1,kernel='rbf').fit(X_train,y_train)\n",
    "print classification_report(y_test,model.predict(X_test))"
   ]
  },
  {
   "cell_type": "markdown",
   "metadata": {},
   "source": [
    "###Exercise 1\n",
    "\n",
    "Create a new dataset called mush_medium and include both cap and gill related features plus the edible? column. Train a linear kernel on it and generate a confusion matrix. Use the train_test_split provided by sklearn with a split of 0.33 and a random_state = 0"
   ]
  },
  {
   "cell_type": "code",
   "execution_count": 22,
   "metadata": {
    "collapsed": false
   },
   "outputs": [
    {
     "name": "stdout",
     "output_type": "stream",
     "text": [
      "<class 'pandas.core.frame.DataFrame'>\n",
      "Int64Index: 8124 entries, 0 to 8123\n",
      "Data columns (total 8 columns):\n",
      "edible?            8124 non-null object\n",
      "cap-shape          8124 non-null object\n",
      "cap-surface        8124 non-null object\n",
      "cap-color          8124 non-null object\n",
      "gill-attachment    8124 non-null object\n",
      "gill-spacing       8124 non-null object\n",
      "gill-size          8124 non-null object\n",
      "gill-color         8124 non-null object\n",
      "dtypes: object(8)\n",
      "memory usage: 571.2+ KB\n"
     ]
    }
   ],
   "source": [
    "mush_medium = mush[['edible?', 'cap-shape', 'cap-surface', 'cap-color', \n",
    "                    'gill-attachment', 'gill-spacing', 'gill-size',\n",
    "                    'gill-color']]\n",
    "mush_medium.info()"
   ]
  },
  {
   "cell_type": "code",
   "execution_count": 23,
   "metadata": {
    "collapsed": false
   },
   "outputs": [
    {
     "data": {
      "text/html": [
       "<div>\n",
       "<table border=\"1\" class=\"dataframe\">\n",
       "  <thead>\n",
       "    <tr style=\"text-align: right;\">\n",
       "      <th></th>\n",
       "      <th>edible?</th>\n",
       "      <th>cap-shape_ knobbed</th>\n",
       "      <th>cap-shape_bell</th>\n",
       "      <th>cap-shape_conical</th>\n",
       "      <th>cap-shape_convex</th>\n",
       "      <th>cap-shape_flat</th>\n",
       "      <th>cap-shape_sunken</th>\n",
       "      <th>cap-surface_fibrous</th>\n",
       "      <th>cap-surface_grooves</th>\n",
       "      <th>cap-surface_scaly</th>\n",
       "      <th>...</th>\n",
       "      <th>gill-color_black</th>\n",
       "      <th>gill-color_brown</th>\n",
       "      <th>gill-color_buff</th>\n",
       "      <th>gill-color_chocolate</th>\n",
       "      <th>gill-color_gray</th>\n",
       "      <th>gill-color_orange</th>\n",
       "      <th>gill-color_pink</th>\n",
       "      <th>gill-color_purple</th>\n",
       "      <th>gill-color_red</th>\n",
       "      <th>gill-color_yellow</th>\n",
       "    </tr>\n",
       "  </thead>\n",
       "  <tbody>\n",
       "    <tr>\n",
       "      <th>0</th>\n",
       "      <td>0</td>\n",
       "      <td>0</td>\n",
       "      <td>0</td>\n",
       "      <td>0</td>\n",
       "      <td>1</td>\n",
       "      <td>0</td>\n",
       "      <td>0</td>\n",
       "      <td>0</td>\n",
       "      <td>0</td>\n",
       "      <td>0</td>\n",
       "      <td>...</td>\n",
       "      <td>1</td>\n",
       "      <td>0</td>\n",
       "      <td>0</td>\n",
       "      <td>0</td>\n",
       "      <td>0</td>\n",
       "      <td>0</td>\n",
       "      <td>0</td>\n",
       "      <td>0</td>\n",
       "      <td>0</td>\n",
       "      <td>0</td>\n",
       "    </tr>\n",
       "    <tr>\n",
       "      <th>1</th>\n",
       "      <td>1</td>\n",
       "      <td>0</td>\n",
       "      <td>0</td>\n",
       "      <td>0</td>\n",
       "      <td>1</td>\n",
       "      <td>0</td>\n",
       "      <td>0</td>\n",
       "      <td>0</td>\n",
       "      <td>0</td>\n",
       "      <td>0</td>\n",
       "      <td>...</td>\n",
       "      <td>1</td>\n",
       "      <td>0</td>\n",
       "      <td>0</td>\n",
       "      <td>0</td>\n",
       "      <td>0</td>\n",
       "      <td>0</td>\n",
       "      <td>0</td>\n",
       "      <td>0</td>\n",
       "      <td>0</td>\n",
       "      <td>0</td>\n",
       "    </tr>\n",
       "    <tr>\n",
       "      <th>2</th>\n",
       "      <td>1</td>\n",
       "      <td>0</td>\n",
       "      <td>1</td>\n",
       "      <td>0</td>\n",
       "      <td>0</td>\n",
       "      <td>0</td>\n",
       "      <td>0</td>\n",
       "      <td>0</td>\n",
       "      <td>0</td>\n",
       "      <td>0</td>\n",
       "      <td>...</td>\n",
       "      <td>0</td>\n",
       "      <td>1</td>\n",
       "      <td>0</td>\n",
       "      <td>0</td>\n",
       "      <td>0</td>\n",
       "      <td>0</td>\n",
       "      <td>0</td>\n",
       "      <td>0</td>\n",
       "      <td>0</td>\n",
       "      <td>0</td>\n",
       "    </tr>\n",
       "    <tr>\n",
       "      <th>3</th>\n",
       "      <td>0</td>\n",
       "      <td>0</td>\n",
       "      <td>0</td>\n",
       "      <td>0</td>\n",
       "      <td>1</td>\n",
       "      <td>0</td>\n",
       "      <td>0</td>\n",
       "      <td>0</td>\n",
       "      <td>0</td>\n",
       "      <td>1</td>\n",
       "      <td>...</td>\n",
       "      <td>0</td>\n",
       "      <td>1</td>\n",
       "      <td>0</td>\n",
       "      <td>0</td>\n",
       "      <td>0</td>\n",
       "      <td>0</td>\n",
       "      <td>0</td>\n",
       "      <td>0</td>\n",
       "      <td>0</td>\n",
       "      <td>0</td>\n",
       "    </tr>\n",
       "    <tr>\n",
       "      <th>4</th>\n",
       "      <td>1</td>\n",
       "      <td>0</td>\n",
       "      <td>0</td>\n",
       "      <td>0</td>\n",
       "      <td>1</td>\n",
       "      <td>0</td>\n",
       "      <td>0</td>\n",
       "      <td>0</td>\n",
       "      <td>0</td>\n",
       "      <td>0</td>\n",
       "      <td>...</td>\n",
       "      <td>1</td>\n",
       "      <td>0</td>\n",
       "      <td>0</td>\n",
       "      <td>0</td>\n",
       "      <td>0</td>\n",
       "      <td>0</td>\n",
       "      <td>0</td>\n",
       "      <td>0</td>\n",
       "      <td>0</td>\n",
       "      <td>0</td>\n",
       "    </tr>\n",
       "  </tbody>\n",
       "</table>\n",
       "<p>5 rows × 39 columns</p>\n",
       "</div>"
      ],
      "text/plain": [
       "   edible?  cap-shape_ knobbed  cap-shape_bell  cap-shape_conical  \\\n",
       "0        0                   0               0                  0   \n",
       "1        1                   0               0                  0   \n",
       "2        1                   0               1                  0   \n",
       "3        0                   0               0                  0   \n",
       "4        1                   0               0                  0   \n",
       "\n",
       "   cap-shape_convex  cap-shape_flat  cap-shape_sunken  cap-surface_fibrous  \\\n",
       "0                 1               0                 0                    0   \n",
       "1                 1               0                 0                    0   \n",
       "2                 0               0                 0                    0   \n",
       "3                 1               0                 0                    0   \n",
       "4                 1               0                 0                    0   \n",
       "\n",
       "   cap-surface_grooves  cap-surface_scaly        ...          \\\n",
       "0                    0                  0        ...           \n",
       "1                    0                  0        ...           \n",
       "2                    0                  0        ...           \n",
       "3                    0                  1        ...           \n",
       "4                    0                  0        ...           \n",
       "\n",
       "   gill-color_black  gill-color_brown  gill-color_buff  gill-color_chocolate  \\\n",
       "0                 1                 0                0                     0   \n",
       "1                 1                 0                0                     0   \n",
       "2                 0                 1                0                     0   \n",
       "3                 0                 1                0                     0   \n",
       "4                 1                 0                0                     0   \n",
       "\n",
       "   gill-color_gray  gill-color_orange  gill-color_pink  gill-color_purple  \\\n",
       "0                0                  0                0                  0   \n",
       "1                0                  0                0                  0   \n",
       "2                0                  0                0                  0   \n",
       "3                0                  0                0                  0   \n",
       "4                0                  0                0                  0   \n",
       "\n",
       "   gill-color_red  gill-color_yellow  \n",
       "0               0                  0  \n",
       "1               0                  0  \n",
       "2               0                  0  \n",
       "3               0                  0  \n",
       "4               0                  0  \n",
       "\n",
       "[5 rows x 39 columns]"
      ]
     },
     "execution_count": 23,
     "metadata": {},
     "output_type": "execute_result"
    }
   ],
   "source": [
    "mush_code = pd.DataFrame(mush_medium['edible?'].map({'p':0,'e':1}))\n",
    "\n",
    "for column in mush_medium.columns:\n",
    "    if column == 'edible?':\n",
    "        continue\n",
    "    temp = pd.get_dummies(mush_medium[column],prefix=column)\n",
    "    mush_code[temp.columns] = temp\n",
    "mush_code.head()\n"
   ]
  },
  {
   "cell_type": "code",
   "execution_count": 24,
   "metadata": {
    "collapsed": false
   },
   "outputs": [
    {
     "name": "stdout",
     "output_type": "stream",
     "text": [
      "<class 'pandas.core.frame.DataFrame'>\n",
      "Int64Index: 8124 entries, 0 to 8123\n",
      "Data columns (total 39 columns):\n",
      "edible?                     8124 non-null int64\n",
      "cap-shape_ knobbed          8124 non-null float64\n",
      "cap-shape_bell              8124 non-null float64\n",
      "cap-shape_conical           8124 non-null float64\n",
      "cap-shape_convex            8124 non-null float64\n",
      "cap-shape_flat              8124 non-null float64\n",
      "cap-shape_sunken            8124 non-null float64\n",
      "cap-surface_fibrous         8124 non-null float64\n",
      "cap-surface_grooves         8124 non-null float64\n",
      "cap-surface_scaly           8124 non-null float64\n",
      "cap-surface_smooth          8124 non-null float64\n",
      "cap-color_ pink             8124 non-null float64\n",
      "cap-color_brown             8124 non-null float64\n",
      "cap-color_buff              8124 non-null float64\n",
      "cap-color_cinnamon          8124 non-null float64\n",
      "cap-color_gray              8124 non-null float64\n",
      "cap-color_green             8124 non-null float64\n",
      "cap-color_purple            8124 non-null float64\n",
      "cap-color_red               8124 non-null float64\n",
      "cap-color_white             8124 non-null float64\n",
      "cap-color_yellow            8124 non-null float64\n",
      "gill-attachment_attached    8124 non-null float64\n",
      "gill-attachment_free        8124 non-null float64\n",
      "gill-spacing_close          8124 non-null float64\n",
      "gill-spacing_crowded        8124 non-null float64\n",
      "gill-size_broad             8124 non-null float64\n",
      "gill-size_narrow            8124 non-null float64\n",
      "gill-color_ green           8124 non-null float64\n",
      "gill-color_ white           8124 non-null float64\n",
      "gill-color_black            8124 non-null float64\n",
      "gill-color_brown            8124 non-null float64\n",
      "gill-color_buff             8124 non-null float64\n",
      "gill-color_chocolate        8124 non-null float64\n",
      "gill-color_gray             8124 non-null float64\n",
      "gill-color_orange           8124 non-null float64\n",
      "gill-color_pink             8124 non-null float64\n",
      "gill-color_purple           8124 non-null float64\n",
      "gill-color_red              8124 non-null float64\n",
      "gill-color_yellow           8124 non-null float64\n",
      "dtypes: float64(38), int64(1)\n",
      "memory usage: 2.5 MB\n"
     ]
    }
   ],
   "source": [
    "mush_code.info()"
   ]
  },
  {
   "cell_type": "code",
   "execution_count": 25,
   "metadata": {
    "collapsed": true
   },
   "outputs": [],
   "source": [
    "X= mush_code.drop('edible?',axis=1)\n",
    "y = mush_code['edible?']"
   ]
  },
  {
   "cell_type": "code",
   "execution_count": 26,
   "metadata": {
    "collapsed": false
   },
   "outputs": [],
   "source": [
    "from sklearn.cross_validation import train_test_split\n",
    "\n",
    "X_train, X_test, y_train, y_test = train_test_split(X, y, test_size=0.33, random_state=0)"
   ]
  },
  {
   "cell_type": "code",
   "execution_count": 27,
   "metadata": {
    "collapsed": false
   },
   "outputs": [
    {
     "name": "stdout",
     "output_type": "stream",
     "text": [
      "             precision    recall  f1-score   support\n",
      "\n",
      "          0       0.90      0.95      0.93      1275\n",
      "          1       0.95      0.90      0.93      1406\n",
      "\n",
      "avg / total       0.93      0.93      0.93      2681\n",
      "\n"
     ]
    }
   ],
   "source": [
    "model = SVC(C=1,kernel='linear').fit(X_train,y_train)\n",
    "y_pred = model.predict(X_test)\n",
    "print classification_report(y_test,y_pred)"
   ]
  },
  {
   "cell_type": "code",
   "execution_count": 28,
   "metadata": {
    "collapsed": false
   },
   "outputs": [
    {
     "name": "stdout",
     "output_type": "stream",
     "text": [
      "[[1215   60]\n",
      " [ 137 1269]]\n"
     ]
    }
   ],
   "source": [
    "from sklearn.metrics import confusion_matrix\n",
    "\n",
    "print confusion_matrix(y_test, y_pred)"
   ]
  },
  {
   "cell_type": "markdown",
   "metadata": {},
   "source": [
    "###Exercise 2\n",
    "Plot the coefficients for the columns. Mind that we only have 2 categories now, Edible and not Edible.\n",
    "Is the plot surprising? Share the results with your neighbor and identify the feature that best identifies an edible mushroom."
   ]
  },
  {
   "cell_type": "code",
   "execution_count": 29,
   "metadata": {
    "collapsed": false
   },
   "outputs": [
    {
     "data": {
      "text/html": [
       "<script type=\"text/javascript\">\n",
       "        Bokeh.$(function() {\n",
       "        var all_models = [{\"attributes\": {\"plot\": {\"subtype\": \"LegacyChart\", \"type\": \"Plot\", \"id\": \"56516fcd-4f45-4bfd-bd22-a77ef66c9414\"}, \"tags\": [], \"doc\": null, \"axis_label\": \"Linear Coefficient\", \"formatter\": {\"type\": \"BasicTickFormatter\", \"id\": \"f7b4e55d-9a7f-43d3-80e7-f3c9fd04c8e5\"}, \"ticker\": {\"type\": \"BasicTicker\", \"id\": \"ceedf862-e6a7-4a8e-b632-65055df45756\"}, \"id\": \"ea6379c1-a129-46ca-a5c8-d0f1cb82d151\"}, \"type\": \"LinearAxis\", \"id\": \"ea6379c1-a129-46ca-a5c8-d0f1cb82d151\"}, {\"attributes\": {\"tags\": [], \"doc\": null, \"mantissas\": [2, 5, 10], \"id\": \"ceedf862-e6a7-4a8e-b632-65055df45756\"}, \"type\": \"BasicTicker\", \"id\": \"ceedf862-e6a7-4a8e-b632-65055df45756\"}, {\"attributes\": {\"doc\": null, \"id\": \"f7b4e55d-9a7f-43d3-80e7-f3c9fd04c8e5\", \"tags\": []}, \"type\": \"BasicTickFormatter\", \"id\": \"f7b4e55d-9a7f-43d3-80e7-f3c9fd04c8e5\"}, {\"attributes\": {\"column_names\": [\"width_cat\", \"0\", \"cat\", \"cat0\", \"width\", \"zero\", \"stacked0\", \"mid0\"], \"tags\": [], \"doc\": null, \"selected\": {\"2d\": {\"indices\": []}, \"1d\": {\"indices\": []}, \"0d\": {\"indices\": [], \"flag\": false}}, \"callback\": null, \"data\": {\"width_cat\": [0.2, 0.2, 0.2, 0.2, 0.2, 0.2, 0.2, 0.2, 0.2, 0.2, 0.2, 0.2, 0.2, 0.2, 0.2, 0.2, 0.2, 0.2, 0.2, 0.2, 0.2, 0.2, 0.2, 0.2, 0.2, 0.2, 0.2, 0.2, 0.2, 0.2, 0.2, 0.2, 0.2, 0.2, 0.2, 0.2, 0.2, 0.2], \"0\": [1.99949741193397, -1.3998921666433781, 0.5000929846073112, -0.9997917870819535, 1.0000665297634002, -3.000140266180184, -1.3994549068220121, -0.00025317441614980396, 0.6001376325592651, 0.0, -1.50008285924576, 0.4998874674961169, 4.665433863459143, 1.0000200584119665, -3.399088926877985, 2.999460252376822, -1.3997454636787676, -1.3332177103855845, 1.9993692163402725, -1.3330917842430126, -1.3996141041865418, 1.0002222115461898, -1.332677450934034, 0.9999671504208143, -1.3995946762569904, 0.0, -1.999497411934147, -1.0000454436730184, -1.0000118800001303, -0.9997468255839104, 4.59875045642861, 0.5001024071423927, -1.3332836879049061, -1.9993692163404049, 0.6668367700084623, 0.59978122205755, 4.598720933420199, 0.00025317441608962987], \"cat\": [\"gill-size_broad\", \"cap-color_gray\", \"cap-surface_scaly\", \"gill-color_pink\", \"gill-color_brown\", \"gill-color_ green\", \"cap-color_cinnamon\", \"gill-attachment_free\", \"cap-color_red\", \"gill-color_buff\", \"cap-surface_grooves\", \"cap-surface_smooth\", \"cap-shape_sunken\", \"gill-color_ white\", \"cap-color_buff\", \"gill-color_red\", \"cap-color_yellow\", \"cap-shape_convex\", \"gill-spacing_crowded\", \"cap-shape_ knobbed\", \"cap-color_ pink\", \"gill-color_purple\", \"cap-shape_conical\", \"gill-color_black\", \"cap-color_white\", \"gill-color_orange\", \"gill-size_narrow\", \"gill-color_chocolate\", \"gill-color_gray\", \"gill-color_yellow\", \"cap-color_purple\", \"cap-surface_fibrous\", \"cap-shape_flat\", \"gill-spacing_close\", \"cap-shape_bell\", \"cap-color_brown\", \"cap-color_green\", \"gill-attachment_attached\"], \"cat0\": [\"gill-size_broad:0.5\", \"cap-color_gray:0.5\", \"cap-surface_scaly:0.5\", \"gill-color_pink:0.5\", \"gill-color_brown:0.5\", \"gill-color_ green:0.5\", \"cap-color_cinnamon:0.5\", \"gill-attachment_free:0.5\", \"cap-color_red:0.5\", \"gill-color_buff:0.5\", \"cap-surface_grooves:0.5\", \"cap-surface_smooth:0.5\", \"cap-shape_sunken:0.5\", \"gill-color_ white:0.5\", \"cap-color_buff:0.5\", \"gill-color_red:0.5\", \"cap-color_yellow:0.5\", \"cap-shape_convex:0.5\", \"gill-spacing_crowded:0.5\", \"cap-shape_ knobbed:0.5\", \"cap-color_ pink:0.5\", \"gill-color_purple:0.5\", \"cap-shape_conical:0.5\", \"gill-color_black:0.5\", \"cap-color_white:0.5\", \"gill-color_orange:0.5\", \"gill-size_narrow:0.5\", \"gill-color_chocolate:0.5\", \"gill-color_gray:0.5\", \"gill-color_yellow:0.5\", \"cap-color_purple:0.5\", \"cap-surface_fibrous:0.5\", \"cap-shape_flat:0.5\", \"gill-spacing_close:0.5\", \"cap-shape_bell:0.5\", \"cap-color_brown:0.5\", \"cap-color_green:0.5\", \"gill-attachment_attached:0.5\"], \"width\": [0.8, 0.8, 0.8, 0.8, 0.8, 0.8, 0.8, 0.8, 0.8, 0.8, 0.8, 0.8, 0.8, 0.8, 0.8, 0.8, 0.8, 0.8, 0.8, 0.8, 0.8, 0.8, 0.8, 0.8, 0.8, 0.8, 0.8, 0.8, 0.8, 0.8, 0.8, 0.8, 0.8, 0.8, 0.8, 0.8, 0.8, 0.8], \"zero\": [1.99949741193397, -1.3998921666433781, 0.5000929846073112, -0.9997917870819535, 1.0000665297634002, -3.000140266180184, -1.3994549068220121, -0.00025317441614980396, 0.6001376325592651, 0.0, -1.50008285924576, 0.4998874674961169, 4.665433863459143, 1.0000200584119665, -3.399088926877985, 2.999460252376822, -1.3997454636787676, -1.3332177103855845, 1.9993692163402725, -1.3330917842430126, -1.3996141041865418, 1.0002222115461898, -1.332677450934034, 0.9999671504208143, -1.3995946762569904, 0.0, -1.999497411934147, -1.0000454436730184, -1.0000118800001303, -0.9997468255839104, 4.59875045642861, 0.5001024071423927, -1.3332836879049061, -1.9993692163404049, 0.6668367700084623, 0.59978122205755, 4.598720933420199, 0.00025317441608962987], \"stacked0\": [0.999748705966985, -0.6999460833216891, 0.2500464923036556, -0.49989589354097674, 0.5000332648817001, -1.500070133090092, -0.6997274534110061, -0.00012658720807490198, 0.30006881627963256, 0.0, -0.75004142962288, 0.24994373374805845, 2.3327169317295713, 0.5000100292059833, -1.6995444634389925, 1.499730126188411, -0.6998727318393838, -0.6666088551927922, 0.9996846081701363, -0.6665458921215063, -0.6998070520932709, 0.5001111057730949, -0.666338725467017, 0.49998357521040715, -0.6997973381284952, 0.0, -0.9997487059670735, -0.5000227218365092, -0.5000059400000652, -0.4998734127919552, 2.299375228214305, 0.25005120357119637, -0.6666418439524531, -0.9996846081702024, 0.33341838500423115, 0.299890611028775, 2.2993604667100995, 0.00012658720804481494], \"mid0\": [0.999748705966985, -0.6999460833216891, 0.2500464923036556, -0.49989589354097674, 0.5000332648817001, -1.500070133090092, -0.6997274534110061, -0.00012658720807490198, 0.30006881627963256, 0.0, -0.75004142962288, 0.24994373374805845, 2.3327169317295713, 0.5000100292059833, -1.6995444634389925, 1.499730126188411, -0.6998727318393838, -0.6666088551927922, 0.9996846081701363, -0.6665458921215063, -0.6998070520932709, 0.5001111057730949, -0.666338725467017, 0.49998357521040715, -0.6997973381284952, 0.0, -0.9997487059670735, -0.5000227218365092, -0.5000059400000652, -0.4998734127919552, 2.299375228214305, 0.25005120357119637, -0.6666418439524531, -0.9996846081702024, 0.33341838500423115, 0.299890611028775, 2.2993604667100995, 0.00012658720804481494]}, \"id\": \"24d37de3-fe1e-4152-8222-d8622f3263d1\"}, \"type\": \"ColumnDataSource\", \"id\": \"24d37de3-fe1e-4152-8222-d8622f3263d1\"}, {\"subtype\": \"LegacyChart\", \"type\": \"Plot\", \"id\": \"56516fcd-4f45-4bfd-bd22-a77ef66c9414\", \"attributes\": {\"x_range\": {\"type\": \"FactorRange\", \"id\": \"1cfab6e7-9fd4-47c3-943e-21b7131fe535\"}, \"right\": [], \"above\": [], \"tags\": [], \"tools\": [{\"type\": \"PanTool\", \"id\": \"0e7c7de4-bc01-49af-bd72-e920fd9f5ab6\"}, {\"type\": \"WheelZoomTool\", \"id\": \"62dab34e-88e7-440c-8443-e3c5f2ecddeb\"}, {\"type\": \"BoxZoomTool\", \"id\": \"dbac836c-5926-4a53-aa5c-77aff2a9fcdc\"}, {\"type\": \"PreviewSaveTool\", \"id\": \"ce4dea02-86bf-48dc-b82f-ae419dba6647\"}, {\"type\": \"ResizeTool\", \"id\": \"54b3e885-ebe3-4c61-af72-eb6baa0fa582\"}, {\"type\": \"ResetTool\", \"id\": \"c44b1d34-2d55-4f10-91da-feb6efd19623\"}, {\"type\": \"HelpTool\", \"id\": \"a50498b4-d646-4dde-8ea3-3c9a113c0432\"}], \"id\": \"56516fcd-4f45-4bfd-bd22-a77ef66c9414\", \"title\": \"SVC Feature Importance\", \"renderers\": [{\"type\": \"CategoricalAxis\", \"id\": \"2c918a24-c582-4a9d-9b62-d53a24b6f185\"}, {\"type\": \"LinearAxis\", \"id\": \"ea6379c1-a129-46ca-a5c8-d0f1cb82d151\"}, {\"type\": \"Grid\", \"id\": \"dd6c6d24-a427-472e-9953-5c6f56e74a73\"}, {\"type\": \"GlyphRenderer\", \"id\": \"9bcda0ee-14f0-478b-9f4d-8b42af138d49\"}, {\"type\": \"Legend\", \"id\": \"fb753650-33bd-4705-b608-a750c704abdb\"}], \"plot_width\": 600, \"extra_y_ranges\": {}, \"extra_x_ranges\": {}, \"tool_events\": {\"type\": \"ToolEvents\", \"id\": \"999d1e0b-4211-485f-938e-30fbddf5c55e\"}, \"plot_height\": 600, \"doc\": null, \"responsive\": false, \"y_range\": {\"type\": \"Range1d\", \"id\": \"3a33c20d-8ed3-4012-b5cd-09900549a16d\"}, \"below\": [{\"type\": \"CategoricalAxis\", \"id\": \"2c918a24-c582-4a9d-9b62-d53a24b6f185\"}], \"left\": [{\"type\": \"LinearAxis\", \"id\": \"ea6379c1-a129-46ca-a5c8-d0f1cb82d151\"}]}}, {\"attributes\": {\"plot\": {\"subtype\": \"LegacyChart\", \"type\": \"Plot\", \"id\": \"56516fcd-4f45-4bfd-bd22-a77ef66c9414\"}, \"tags\": [], \"doc\": null, \"id\": \"54b3e885-ebe3-4c61-af72-eb6baa0fa582\"}, \"type\": \"ResizeTool\", \"id\": \"54b3e885-ebe3-4c61-af72-eb6baa0fa582\"}, {\"attributes\": {\"plot\": {\"subtype\": \"LegacyChart\", \"type\": \"Plot\", \"id\": \"56516fcd-4f45-4bfd-bd22-a77ef66c9414\"}, \"dimensions\": [\"width\", \"height\"], \"tags\": [], \"doc\": null, \"id\": \"dbac836c-5926-4a53-aa5c-77aff2a9fcdc\"}, \"type\": \"BoxZoomTool\", \"id\": \"dbac836c-5926-4a53-aa5c-77aff2a9fcdc\"}, {\"attributes\": {\"geometries\": [], \"tags\": [], \"doc\": null, \"id\": \"999d1e0b-4211-485f-938e-30fbddf5c55e\"}, \"type\": \"ToolEvents\", \"id\": \"999d1e0b-4211-485f-938e-30fbddf5c55e\"}, {\"attributes\": {\"nonselection_glyph\": null, \"data_source\": {\"type\": \"ColumnDataSource\", \"id\": \"24d37de3-fe1e-4152-8222-d8622f3263d1\"}, \"tags\": [], \"doc\": null, \"selection_glyph\": null, \"id\": \"9bcda0ee-14f0-478b-9f4d-8b42af138d49\", \"glyph\": {\"type\": \"Rect\", \"id\": \"af666c59-b4f9-414b-8ac1-c3ad19de85f2\"}}, \"type\": \"GlyphRenderer\", \"id\": \"9bcda0ee-14f0-478b-9f4d-8b42af138d49\"}, {\"attributes\": {\"plot\": {\"subtype\": \"LegacyChart\", \"type\": \"Plot\", \"id\": \"56516fcd-4f45-4bfd-bd22-a77ef66c9414\"}, \"tags\": [], \"doc\": null, \"major_label_orientation\": 0.7853981633974483, \"axis_label\": \"Features\", \"formatter\": {\"type\": \"CategoricalTickFormatter\", \"id\": \"450eab52-51d1-4f87-b3a4-639813b274e9\"}, \"ticker\": {\"type\": \"CategoricalTicker\", \"id\": \"cc58933a-ae0a-4dfb-af84-774028d1aee5\"}, \"id\": \"2c918a24-c582-4a9d-9b62-d53a24b6f185\"}, \"type\": \"CategoricalAxis\", \"id\": \"2c918a24-c582-4a9d-9b62-d53a24b6f185\"}, {\"attributes\": {\"doc\": null, \"id\": \"450eab52-51d1-4f87-b3a4-639813b274e9\", \"tags\": []}, \"type\": \"CategoricalTickFormatter\", \"id\": \"450eab52-51d1-4f87-b3a4-639813b274e9\"}, {\"attributes\": {\"plot\": {\"subtype\": \"LegacyChart\", \"type\": \"Plot\", \"id\": \"56516fcd-4f45-4bfd-bd22-a77ef66c9414\"}, \"tags\": [], \"doc\": null, \"dimension\": 1, \"ticker\": {\"type\": \"BasicTicker\", \"id\": \"ceedf862-e6a7-4a8e-b632-65055df45756\"}, \"id\": \"dd6c6d24-a427-472e-9953-5c6f56e74a73\"}, \"type\": \"Grid\", \"id\": \"dd6c6d24-a427-472e-9953-5c6f56e74a73\"}, {\"attributes\": {\"plot\": {\"subtype\": \"LegacyChart\", \"type\": \"Plot\", \"id\": \"56516fcd-4f45-4bfd-bd22-a77ef66c9414\"}, \"dimensions\": [\"width\", \"height\"], \"tags\": [], \"doc\": null, \"id\": \"62dab34e-88e7-440c-8443-e3c5f2ecddeb\"}, \"type\": \"WheelZoomTool\", \"id\": \"62dab34e-88e7-440c-8443-e3c5f2ecddeb\"}, {\"attributes\": {\"plot\": {\"subtype\": \"LegacyChart\", \"type\": \"Plot\", \"id\": \"56516fcd-4f45-4bfd-bd22-a77ef66c9414\"}, \"tags\": [], \"doc\": null, \"id\": \"ce4dea02-86bf-48dc-b82f-ae419dba6647\"}, \"type\": \"PreviewSaveTool\", \"id\": \"ce4dea02-86bf-48dc-b82f-ae419dba6647\"}, {\"attributes\": {\"callback\": null, \"factors\": [\"gill-size_broad\", \"cap-color_gray\", \"cap-surface_scaly\", \"gill-color_pink\", \"gill-color_brown\", \"gill-color_ green\", \"cap-color_cinnamon\", \"gill-attachment_free\", \"cap-color_red\", \"gill-color_buff\", \"cap-surface_grooves\", \"cap-surface_smooth\", \"cap-shape_sunken\", \"gill-color_ white\", \"cap-color_buff\", \"gill-color_red\", \"cap-color_yellow\", \"cap-shape_convex\", \"gill-spacing_crowded\", \"cap-shape_ knobbed\", \"cap-color_ pink\", \"gill-color_purple\", \"cap-shape_conical\", \"gill-color_black\", \"cap-color_white\", \"gill-color_orange\", \"gill-size_narrow\", \"gill-color_chocolate\", \"gill-color_gray\", \"gill-color_yellow\", \"cap-color_purple\", \"cap-surface_fibrous\", \"cap-shape_flat\", \"gill-spacing_close\", \"cap-shape_bell\", \"cap-color_brown\", \"cap-color_green\", \"gill-attachment_attached\"], \"doc\": null, \"tags\": [], \"id\": \"1cfab6e7-9fd4-47c3-943e-21b7131fe535\"}, \"type\": \"FactorRange\", \"id\": \"1cfab6e7-9fd4-47c3-943e-21b7131fe535\"}, {\"attributes\": {\"end\": 5.1319772498050575, \"callback\": null, \"doc\": null, \"tags\": [], \"start\": -3.7389978195657836, \"id\": \"3a33c20d-8ed3-4012-b5cd-09900549a16d\"}, \"type\": \"Range1d\", \"id\": \"3a33c20d-8ed3-4012-b5cd-09900549a16d\"}, {\"attributes\": {\"plot\": {\"subtype\": \"LegacyChart\", \"type\": \"Plot\", \"id\": \"56516fcd-4f45-4bfd-bd22-a77ef66c9414\"}, \"tags\": [], \"doc\": null, \"id\": \"c44b1d34-2d55-4f10-91da-feb6efd19623\"}, \"type\": \"ResetTool\", \"id\": \"c44b1d34-2d55-4f10-91da-feb6efd19623\"}, {\"attributes\": {\"plot\": {\"subtype\": \"LegacyChart\", \"type\": \"Plot\", \"id\": \"56516fcd-4f45-4bfd-bd22-a77ef66c9414\"}, \"tags\": [], \"doc\": null, \"id\": \"a50498b4-d646-4dde-8ea3-3c9a113c0432\"}, \"type\": \"HelpTool\", \"id\": \"a50498b4-d646-4dde-8ea3-3c9a113c0432\"}, {\"attributes\": {\"plot\": {\"subtype\": \"LegacyChart\", \"type\": \"Plot\", \"id\": \"56516fcd-4f45-4bfd-bd22-a77ef66c9414\"}, \"orientation\": \"top_right\", \"tags\": [], \"doc\": null, \"id\": \"fb753650-33bd-4705-b608-a750c704abdb\", \"legends\": [[\"0\", [{\"type\": \"GlyphRenderer\", \"id\": \"9bcda0ee-14f0-478b-9f4d-8b42af138d49\"}]]]}, \"type\": \"Legend\", \"id\": \"fb753650-33bd-4705-b608-a750c704abdb\"}, {\"attributes\": {\"line_color\": {\"value\": \"white\"}, \"fill_color\": {\"value\": \"#f22c40\"}, \"tags\": [], \"doc\": null, \"fill_alpha\": {\"value\": 0.7}, \"height\": {\"units\": \"data\", \"field\": \"0\"}, \"width\": {\"units\": \"data\", \"field\": \"width_cat\"}, \"y\": {\"field\": \"mid0\"}, \"x\": {\"field\": \"cat0\"}, \"id\": \"af666c59-b4f9-414b-8ac1-c3ad19de85f2\"}, \"type\": \"Rect\", \"id\": \"af666c59-b4f9-414b-8ac1-c3ad19de85f2\"}, {\"attributes\": {\"plot\": {\"subtype\": \"LegacyChart\", \"type\": \"Plot\", \"id\": \"56516fcd-4f45-4bfd-bd22-a77ef66c9414\"}, \"dimensions\": [\"width\", \"height\"], \"tags\": [], \"doc\": null, \"id\": \"0e7c7de4-bc01-49af-bd72-e920fd9f5ab6\"}, \"type\": \"PanTool\", \"id\": \"0e7c7de4-bc01-49af-bd72-e920fd9f5ab6\"}, {\"attributes\": {\"doc\": null, \"id\": \"cc58933a-ae0a-4dfb-af84-774028d1aee5\", \"tags\": []}, \"type\": \"CategoricalTicker\", \"id\": \"cc58933a-ae0a-4dfb-af84-774028d1aee5\"}];\n",
       "        Bokeh.load_models(all_models);\n",
       "        var plots = [{'modeltype': 'Plot', 'elementid': 'e1da5fa3-ca9f-4107-9fc5-583a5a98c7c9', 'modelid': '56516fcd-4f45-4bfd-bd22-a77ef66c9414'}];\n",
       "        for (idx in plots) {\n",
       "        \tvar plot = plots[idx];\n",
       "        \tvar model = Bokeh.Collections(plot.modeltype).get(plot.modelid);\n",
       "        \tBokeh.logger.info('Realizing plot:')\n",
       "        \tBokeh.logger.info(' - modeltype: ' + plot.modeltype);\n",
       "        \tBokeh.logger.info(' - modelid: ' + plot.modelid);\n",
       "        \tBokeh.logger.info(' - elementid: ' + plot.elementid);\n",
       "        \tvar view = new model.default_view({\n",
       "        \t\tmodel: model,\n",
       "        \t\tel: '#' + plot.elementid\n",
       "        \t});\n",
       "        \tBokeh.index[plot.modelid] = view;\n",
       "        }\n",
       "    });\n",
       "    </script>\n",
       "<div class=\"plotdiv\" id=\"e1da5fa3-ca9f-4107-9fc5-583a5a98c7c9\"></div>\n",
       "\n"
      ]
     },
     "metadata": {},
     "output_type": "display_data"
    }
   ],
   "source": [
    "coef_dict = {k:v for k, v in zip(X.columns, model.coef_[0])}\n",
    "\n",
    "p=Bar(coef_dict.values(), cat = coef_dict.keys(), title=\"SVC Feature Importance\",xlabel='Features', ylabel='Linear Coefficient', width=600, height=600, legend=\"top_right\")\n",
    "show(p)"
   ]
  },
  {
   "cell_type": "markdown",
   "metadata": {},
   "source": [
    "###Exercise 3\n",
    "Build a model with only the top 6 features. Use large coefficients both positive and negative"
   ]
  },
  {
   "cell_type": "code",
   "execution_count": 30,
   "metadata": {
    "collapsed": false
   },
   "outputs": [],
   "source": [
    "abs_coef_dict = {k:abs(v) for k, v in coef_dict.iteritems()}"
   ]
  },
  {
   "cell_type": "code",
   "execution_count": 31,
   "metadata": {
    "collapsed": false
   },
   "outputs": [
    {
     "data": {
      "text/plain": [
       "[('cap-shape_sunken', 4.6654338634591426),\n",
       " ('cap-color_purple', 4.5987504564286104),\n",
       " ('cap-color_green', 4.5987209334201991),\n",
       " ('cap-color_buff', 3.3990889268779849),\n",
       " ('gill-color_ green', 3.0001402661801841),\n",
       " ('gill-color_red', 2.9994602523768221),\n",
       " ('gill-size_narrow', 1.9994974119341471),\n",
       " ('gill-size_broad', 1.9994974119339699),\n",
       " ('gill-spacing_close', 1.9993692163404049),\n",
       " ('gill-spacing_crowded', 1.9993692163402725)]"
      ]
     },
     "execution_count": 31,
     "metadata": {},
     "output_type": "execute_result"
    }
   ],
   "source": [
    "import operator\n",
    "sorted_coefs = sorted(abs_coef_dict.items(), key=operator.itemgetter(1), reverse = True)\n",
    "sorted_coefs[0:10]"
   ]
  },
  {
   "cell_type": "code",
   "execution_count": 32,
   "metadata": {
    "collapsed": false
   },
   "outputs": [
    {
     "data": {
      "text/plain": [
       "['edible?',\n",
       " 'cap-shape_sunken',\n",
       " 'cap-color_purple',\n",
       " 'cap-color_green',\n",
       " 'cap-color_buff',\n",
       " 'gill-color_ green',\n",
       " 'gill-color_red',\n",
       " 'gill-size_narrow',\n",
       " 'gill-size_broad',\n",
       " 'gill-spacing_close',\n",
       " 'gill-spacing_crowded']"
      ]
     },
     "execution_count": 32,
     "metadata": {},
     "output_type": "execute_result"
    }
   ],
   "source": [
    "selected_columns = ['edible?']\n",
    "for i in xrange(0,10):\n",
    "    selected_columns.append(sorted_coefs[i][0])\n",
    "selected_columns"
   ]
  },
  {
   "cell_type": "code",
   "execution_count": 33,
   "metadata": {
    "collapsed": false,
    "scrolled": true
   },
   "outputs": [
    {
     "data": {
      "text/plain": [
       "['edible?',\n",
       " 'cap-shape_sunken',\n",
       " 'cap-color_purple',\n",
       " 'cap-color_green',\n",
       " 'cap-color_buff',\n",
       " 'gill-color_ green',\n",
       " 'gill-color_red',\n",
       " 'gill-size_narrow',\n",
       " 'gill-size_broad',\n",
       " 'gill-spacing_close',\n",
       " 'gill-spacing_crowded']"
      ]
     },
     "execution_count": 33,
     "metadata": {},
     "output_type": "execute_result"
    }
   ],
   "source": [
    "selected_columns"
   ]
  },
  {
   "cell_type": "code",
   "execution_count": 34,
   "metadata": {
    "collapsed": false
   },
   "outputs": [
    {
     "name": "stdout",
     "output_type": "stream",
     "text": [
      "<class 'pandas.core.frame.DataFrame'>\n",
      "Int64Index: 8124 entries, 0 to 8123\n",
      "Data columns (total 11 columns):\n",
      "edible?                 8124 non-null int64\n",
      "cap-shape_sunken        8124 non-null float64\n",
      "cap-color_purple        8124 non-null float64\n",
      "cap-color_green         8124 non-null float64\n",
      "cap-color_buff          8124 non-null float64\n",
      "gill-color_ green       8124 non-null float64\n",
      "gill-color_red          8124 non-null float64\n",
      "gill-size_narrow        8124 non-null float64\n",
      "gill-size_broad         8124 non-null float64\n",
      "gill-spacing_close      8124 non-null float64\n",
      "gill-spacing_crowded    8124 non-null float64\n",
      "dtypes: float64(10), int64(1)\n",
      "memory usage: 761.6 KB\n"
     ]
    }
   ],
   "source": [
    "mush_select = mush_code[selected_columns]\n",
    "mush_select.info()"
   ]
  },
  {
   "cell_type": "code",
   "execution_count": 35,
   "metadata": {
    "collapsed": true
   },
   "outputs": [],
   "source": [
    "X= mush_select.drop('edible?',axis=1)\n",
    "y = mush_select['edible?']"
   ]
  },
  {
   "cell_type": "code",
   "execution_count": 36,
   "metadata": {
    "collapsed": true
   },
   "outputs": [],
   "source": [
    "X_train, X_test, y_train, y_test = train_test_split(X, y, test_size=0.33, random_state=0)"
   ]
  },
  {
   "cell_type": "code",
   "execution_count": 37,
   "metadata": {
    "collapsed": false
   },
   "outputs": [
    {
     "name": "stdout",
     "output_type": "stream",
     "text": [
      "             precision    recall  f1-score   support\n",
      "\n",
      "          0       0.95      0.56      0.71      1275\n",
      "          1       0.71      0.97      0.82      1406\n",
      "\n",
      "avg / total       0.82      0.78      0.77      2681\n",
      "\n"
     ]
    }
   ],
   "source": [
    "model = SVC(C=1,kernel='linear').fit(X_train,y_train)\n",
    "y_pred = model.predict(X_test)\n",
    "print classification_report(y_test,y_pred)"
   ]
  },
  {
   "cell_type": "markdown",
   "metadata": {},
   "source": [
    "# Learning Curves\n",
    "\n",
    "###Exercise 4\n",
    "\n",
    "plot learning curves for train sizes between 5% and 100%\n",
    "\n",
    "use StratifiedKFold with 5 folds as cross validation"
   ]
  },
  {
   "cell_type": "code",
   "execution_count": 38,
   "metadata": {
    "collapsed": false
   },
   "outputs": [],
   "source": [
    "from sklearn.learning_curve import learning_curve\n",
    "from sklearn.cross_validation import StratifiedKFold\n",
    "\n",
    "train_sizes, train_scores, test_scores = learning_curve(model,\n",
    "                                                        X,\n",
    "                                                        y,\n",
    "                                                        train_sizes=np.linspace(0.05, 1.0, 10),\n",
    "                                                        cv = StratifiedKFold(y, n_folds=5, shuffle=True, random_state=0))"
   ]
  },
  {
   "cell_type": "code",
   "execution_count": 39,
   "metadata": {
    "collapsed": false
   },
   "outputs": [
    {
     "data": {
      "text/html": [
       "<script type=\"text/javascript\">\n",
       "        Bokeh.$(function() {\n",
       "        var all_models = [{\"attributes\": {\"plot\": {\"subtype\": \"Figure\", \"type\": \"Plot\", \"id\": \"8c7e0b04-680b-4602-9efc-2a2ae794948a\"}, \"tags\": [], \"doc\": null, \"id\": \"7bab02b8-3ad1-483e-b039-476f39f8e351\"}, \"type\": \"HelpTool\", \"id\": \"7bab02b8-3ad1-483e-b039-476f39f8e351\"}, {\"attributes\": {\"column_names\": [\"y\", \"x\"], \"tags\": [], \"doc\": null, \"selected\": {\"2d\": {\"indices\": []}, \"1d\": {\"indices\": []}, \"0d\": {\"indices\": [], \"flag\": false}}, \"callback\": null, \"data\": {\"y\": [0.9475308641975309, 0.9516831683168316, 0.9692216981132076, 0.9690176322418136, 0.9151890482398958, 0.790676611614278, 0.7247747747747748, 0.7302770191182208, 0.7601514108740537, 0.781840566328101], \"x\": [324, 1010, 1696, 2382, 3068, 3754, 4440, 5126, 5812, 6498]}, \"id\": \"775d426d-95fe-4d50-a991-b76380c675c2\"}, \"type\": \"ColumnDataSource\", \"id\": \"775d426d-95fe-4d50-a991-b76380c675c2\"}, {\"attributes\": {\"doc\": null, \"id\": \"59d11afd-1bed-42aa-84d2-2387489b7983\", \"tags\": []}, \"type\": \"BasicTickFormatter\", \"id\": \"59d11afd-1bed-42aa-84d2-2387489b7983\"}, {\"attributes\": {\"column_names\": [\"y\", \"x\"], \"tags\": [], \"doc\": null, \"selected\": {\"2d\": {\"indices\": []}, \"1d\": {\"indices\": []}, \"0d\": {\"indices\": [], \"flag\": false}}, \"callback\": null, \"data\": {\"y\": [0.7641557051083964, 0.7641557051083964, 0.7641557051083964, 0.7641557051083964, 0.7641557051083964, 0.7763426705203013, 0.7818811338299059, 0.7818811338299059, 0.7818811338299059, 0.7818811338299059], \"x\": [324, 1010, 1696, 2382, 3068, 3754, 4440, 5126, 5812, 6498]}, \"id\": \"6b966fb7-40fa-4442-af0b-f6eff4b3e642\"}, \"type\": \"ColumnDataSource\", \"id\": \"6b966fb7-40fa-4442-af0b-f6eff4b3e642\"}, {\"attributes\": {\"plot\": {\"subtype\": \"Figure\", \"type\": \"Plot\", \"id\": \"8c7e0b04-680b-4602-9efc-2a2ae794948a\"}, \"tags\": [], \"doc\": null, \"dimension\": 1, \"ticker\": {\"type\": \"BasicTicker\", \"id\": \"2ac6520d-210f-46ee-8446-f2324c10c0b1\"}, \"id\": \"37d61a17-2a76-43a0-b8e2-467f91e7fff4\"}, \"type\": \"Grid\", \"id\": \"37d61a17-2a76-43a0-b8e2-467f91e7fff4\"}, {\"attributes\": {\"plot\": {\"subtype\": \"Figure\", \"type\": \"Plot\", \"id\": \"8c7e0b04-680b-4602-9efc-2a2ae794948a\"}, \"orientation\": \"bottom_right\", \"tags\": [], \"doc\": null, \"id\": \"00f887a7-cf23-40c4-8e8b-60c52db0832d\", \"legends\": [[\"Training Scores\", [{\"type\": \"GlyphRenderer\", \"id\": \"d6dee610-c043-4b57-b4a5-05f86cf70c9f\"}]], [\"Test Scores\", [{\"type\": \"GlyphRenderer\", \"id\": \"55340a2b-7619-464e-a354-f71eb174aa62\"}]]]}, \"type\": \"Legend\", \"id\": \"00f887a7-cf23-40c4-8e8b-60c52db0832d\"}, {\"attributes\": {\"line_color\": {\"value\": \"#1f77b4\"}, \"line_alpha\": {\"value\": 0.1}, \"tags\": [], \"doc\": null, \"y\": {\"field\": \"y\"}, \"x\": {\"field\": \"x\"}, \"id\": \"e5e64a0c-7015-4b09-814e-bda76759d8a4\"}, \"type\": \"Line\", \"id\": \"e5e64a0c-7015-4b09-814e-bda76759d8a4\"}, {\"attributes\": {\"plot\": {\"subtype\": \"Figure\", \"type\": \"Plot\", \"id\": \"8c7e0b04-680b-4602-9efc-2a2ae794948a\"}, \"tags\": [], \"doc\": null, \"formatter\": {\"type\": \"BasicTickFormatter\", \"id\": \"138be33c-ea26-4c00-9682-8e319d08eee1\"}, \"ticker\": {\"type\": \"BasicTicker\", \"id\": \"2ac6520d-210f-46ee-8446-f2324c10c0b1\"}, \"id\": \"7bc5ec08-d61d-48ca-954e-3d6b859d17a0\"}, \"type\": \"LinearAxis\", \"id\": \"7bc5ec08-d61d-48ca-954e-3d6b859d17a0\"}, {\"attributes\": {\"plot\": {\"subtype\": \"Figure\", \"type\": \"Plot\", \"id\": \"8c7e0b04-680b-4602-9efc-2a2ae794948a\"}, \"dimensions\": [\"width\", \"height\"], \"tags\": [], \"doc\": null, \"id\": \"aeb8a945-30c0-4c7b-bf41-c7a227c50afa\"}, \"type\": \"PanTool\", \"id\": \"aeb8a945-30c0-4c7b-bf41-c7a227c50afa\"}, {\"subtype\": \"Figure\", \"type\": \"Plot\", \"id\": \"8c7e0b04-680b-4602-9efc-2a2ae794948a\", \"attributes\": {\"x_range\": {\"type\": \"DataRange1d\", \"id\": \"c8768f25-51d6-48d6-86ad-acd662643bf8\"}, \"right\": [], \"tags\": [], \"tools\": [{\"type\": \"PanTool\", \"id\": \"aeb8a945-30c0-4c7b-bf41-c7a227c50afa\"}, {\"type\": \"WheelZoomTool\", \"id\": \"6645b8e2-e062-4893-a2c6-0566aa79d2ec\"}, {\"type\": \"BoxZoomTool\", \"id\": \"a01ce755-b416-4f5e-8be1-aa811b0498ad\"}, {\"type\": \"PreviewSaveTool\", \"id\": \"f2145bf4-1456-42de-a7d0-a7daf0a16e7d\"}, {\"type\": \"ResizeTool\", \"id\": \"b3a2eede-3c73-43e7-9351-f7b79956a524\"}, {\"type\": \"ResetTool\", \"id\": \"29f7f9c6-af3a-4a62-a99f-e6666dee30a7\"}, {\"type\": \"HelpTool\", \"id\": \"7bab02b8-3ad1-483e-b039-476f39f8e351\"}], \"title\": \"Learning Curve\", \"extra_y_ranges\": {}, \"renderers\": [{\"type\": \"LinearAxis\", \"id\": \"b98525d9-48bc-4dea-a66b-8452593ed28c\"}, {\"type\": \"Grid\", \"id\": \"61883616-ca6b-4e75-9bad-517b95f94ba9\"}, {\"type\": \"LinearAxis\", \"id\": \"7bc5ec08-d61d-48ca-954e-3d6b859d17a0\"}, {\"type\": \"Grid\", \"id\": \"37d61a17-2a76-43a0-b8e2-467f91e7fff4\"}, {\"type\": \"Legend\", \"id\": \"00f887a7-cf23-40c4-8e8b-60c52db0832d\"}, {\"type\": \"GlyphRenderer\", \"id\": \"d6dee610-c043-4b57-b4a5-05f86cf70c9f\"}, {\"type\": \"GlyphRenderer\", \"id\": \"55340a2b-7619-464e-a354-f71eb174aa62\"}], \"extra_x_ranges\": {}, \"below\": [{\"type\": \"LinearAxis\", \"id\": \"b98525d9-48bc-4dea-a66b-8452593ed28c\"}], \"tool_events\": {\"type\": \"ToolEvents\", \"id\": \"ed1f272e-57e0-474f-ae4d-3aad2289067c\"}, \"above\": [], \"doc\": null, \"y_range\": {\"type\": \"Range1d\", \"id\": \"46ae0a05-420d-41e3-a84b-ecf6e4423d7f\"}, \"id\": \"8c7e0b04-680b-4602-9efc-2a2ae794948a\", \"left\": [{\"type\": \"LinearAxis\", \"id\": \"7bc5ec08-d61d-48ca-954e-3d6b859d17a0\"}]}}, {\"attributes\": {\"line_color\": {\"value\": \"red\"}, \"line_alpha\": {\"value\": 1.0}, \"tags\": [], \"doc\": null, \"y\": {\"field\": \"y\"}, \"x\": {\"field\": \"x\"}, \"id\": \"055591d7-c748-4af1-88c3-c5596331c696\"}, \"type\": \"Line\", \"id\": \"055591d7-c748-4af1-88c3-c5596331c696\"}, {\"attributes\": {\"plot\": {\"subtype\": \"Figure\", \"type\": \"Plot\", \"id\": \"8c7e0b04-680b-4602-9efc-2a2ae794948a\"}, \"tags\": [], \"doc\": null, \"id\": \"f2145bf4-1456-42de-a7d0-a7daf0a16e7d\"}, \"type\": \"PreviewSaveTool\", \"id\": \"f2145bf4-1456-42de-a7d0-a7daf0a16e7d\"}, {\"attributes\": {\"geometries\": [], \"tags\": [], \"doc\": null, \"id\": \"ed1f272e-57e0-474f-ae4d-3aad2289067c\"}, \"type\": \"ToolEvents\", \"id\": \"ed1f272e-57e0-474f-ae4d-3aad2289067c\"}, {\"attributes\": {\"plot\": {\"subtype\": \"Figure\", \"type\": \"Plot\", \"id\": \"8c7e0b04-680b-4602-9efc-2a2ae794948a\"}, \"tags\": [], \"doc\": null, \"dimension\": 0, \"ticker\": {\"type\": \"BasicTicker\", \"id\": \"3956d59f-5dbc-4565-be0f-a157bd068188\"}, \"id\": \"61883616-ca6b-4e75-9bad-517b95f94ba9\"}, \"type\": \"Grid\", \"id\": \"61883616-ca6b-4e75-9bad-517b95f94ba9\"}, {\"attributes\": {\"plot\": {\"subtype\": \"Figure\", \"type\": \"Plot\", \"id\": \"8c7e0b04-680b-4602-9efc-2a2ae794948a\"}, \"dimensions\": [\"width\", \"height\"], \"tags\": [], \"doc\": null, \"id\": \"6645b8e2-e062-4893-a2c6-0566aa79d2ec\"}, \"type\": \"WheelZoomTool\", \"id\": \"6645b8e2-e062-4893-a2c6-0566aa79d2ec\"}, {\"attributes\": {\"plot\": {\"subtype\": \"Figure\", \"type\": \"Plot\", \"id\": \"8c7e0b04-680b-4602-9efc-2a2ae794948a\"}, \"tags\": [], \"doc\": null, \"id\": \"29f7f9c6-af3a-4a62-a99f-e6666dee30a7\"}, \"type\": \"ResetTool\", \"id\": \"29f7f9c6-af3a-4a62-a99f-e6666dee30a7\"}, {\"attributes\": {\"nonselection_glyph\": {\"type\": \"Line\", \"id\": \"e5e64a0c-7015-4b09-814e-bda76759d8a4\"}, \"data_source\": {\"type\": \"ColumnDataSource\", \"id\": \"6b966fb7-40fa-4442-af0b-f6eff4b3e642\"}, \"tags\": [], \"doc\": null, \"selection_glyph\": null, \"id\": \"55340a2b-7619-464e-a354-f71eb174aa62\", \"glyph\": {\"type\": \"Line\", \"id\": \"8dc3c244-94a1-4e59-bd65-c105fb212073\"}}, \"type\": \"GlyphRenderer\", \"id\": \"55340a2b-7619-464e-a354-f71eb174aa62\"}, {\"attributes\": {\"plot\": {\"subtype\": \"Figure\", \"type\": \"Plot\", \"id\": \"8c7e0b04-680b-4602-9efc-2a2ae794948a\"}, \"dimensions\": [\"width\", \"height\"], \"tags\": [], \"doc\": null, \"id\": \"a01ce755-b416-4f5e-8be1-aa811b0498ad\"}, \"type\": \"BoxZoomTool\", \"id\": \"a01ce755-b416-4f5e-8be1-aa811b0498ad\"}, {\"attributes\": {\"doc\": null, \"id\": \"138be33c-ea26-4c00-9682-8e319d08eee1\", \"tags\": []}, \"type\": \"BasicTickFormatter\", \"id\": \"138be33c-ea26-4c00-9682-8e319d08eee1\"}, {\"attributes\": {\"line_color\": {\"value\": \"#1f77b4\"}, \"line_alpha\": {\"value\": 0.1}, \"tags\": [], \"doc\": null, \"y\": {\"field\": \"y\"}, \"x\": {\"field\": \"x\"}, \"id\": \"e8d6c508-edb5-46d1-817c-e7d3ccb69d83\"}, \"type\": \"Line\", \"id\": \"e8d6c508-edb5-46d1-817c-e7d3ccb69d83\"}, {\"attributes\": {\"tags\": [], \"doc\": null, \"mantissas\": [2, 5, 10], \"id\": \"3956d59f-5dbc-4565-be0f-a157bd068188\", \"num_minor_ticks\": 5}, \"type\": \"BasicTicker\", \"id\": \"3956d59f-5dbc-4565-be0f-a157bd068188\"}, {\"attributes\": {\"plot\": {\"subtype\": \"Figure\", \"type\": \"Plot\", \"id\": \"8c7e0b04-680b-4602-9efc-2a2ae794948a\"}, \"tags\": [], \"doc\": null, \"formatter\": {\"type\": \"BasicTickFormatter\", \"id\": \"59d11afd-1bed-42aa-84d2-2387489b7983\"}, \"ticker\": {\"type\": \"BasicTicker\", \"id\": \"3956d59f-5dbc-4565-be0f-a157bd068188\"}, \"id\": \"b98525d9-48bc-4dea-a66b-8452593ed28c\"}, \"type\": \"LinearAxis\", \"id\": \"b98525d9-48bc-4dea-a66b-8452593ed28c\"}, {\"attributes\": {\"tags\": [], \"doc\": null, \"mantissas\": [2, 5, 10], \"id\": \"2ac6520d-210f-46ee-8446-f2324c10c0b1\", \"num_minor_ticks\": 5}, \"type\": \"BasicTicker\", \"id\": \"2ac6520d-210f-46ee-8446-f2324c10c0b1\"}, {\"attributes\": {\"tags\": [], \"doc\": null, \"renderers\": [], \"callback\": null, \"names\": [], \"id\": \"c8768f25-51d6-48d6-86ad-acd662643bf8\"}, \"type\": \"DataRange1d\", \"id\": \"c8768f25-51d6-48d6-86ad-acd662643bf8\"}, {\"attributes\": {\"line_color\": {\"value\": \"blue\"}, \"line_alpha\": {\"value\": 1.0}, \"tags\": [], \"doc\": null, \"y\": {\"field\": \"y\"}, \"x\": {\"field\": \"x\"}, \"id\": \"8dc3c244-94a1-4e59-bd65-c105fb212073\"}, \"type\": \"Line\", \"id\": \"8dc3c244-94a1-4e59-bd65-c105fb212073\"}, {\"attributes\": {\"nonselection_glyph\": {\"type\": \"Line\", \"id\": \"e8d6c508-edb5-46d1-817c-e7d3ccb69d83\"}, \"data_source\": {\"type\": \"ColumnDataSource\", \"id\": \"775d426d-95fe-4d50-a991-b76380c675c2\"}, \"tags\": [], \"doc\": null, \"selection_glyph\": null, \"id\": \"d6dee610-c043-4b57-b4a5-05f86cf70c9f\", \"glyph\": {\"type\": \"Line\", \"id\": \"055591d7-c748-4af1-88c3-c5596331c696\"}}, \"type\": \"GlyphRenderer\", \"id\": \"d6dee610-c043-4b57-b4a5-05f86cf70c9f\"}, {\"attributes\": {\"end\": 1, \"callback\": null, \"doc\": null, \"tags\": [], \"start\": 0, \"id\": \"46ae0a05-420d-41e3-a84b-ecf6e4423d7f\"}, \"type\": \"Range1d\", \"id\": \"46ae0a05-420d-41e3-a84b-ecf6e4423d7f\"}, {\"attributes\": {\"plot\": {\"subtype\": \"Figure\", \"type\": \"Plot\", \"id\": \"8c7e0b04-680b-4602-9efc-2a2ae794948a\"}, \"tags\": [], \"doc\": null, \"id\": \"b3a2eede-3c73-43e7-9351-f7b79956a524\"}, \"type\": \"ResizeTool\", \"id\": \"b3a2eede-3c73-43e7-9351-f7b79956a524\"}];\n",
       "        Bokeh.load_models(all_models);\n",
       "        var plots = [{'modeltype': 'Plot', 'elementid': '2d05d5ed-bde7-4920-9f99-b9e22411045e', 'modelid': '8c7e0b04-680b-4602-9efc-2a2ae794948a'}];\n",
       "        for (idx in plots) {\n",
       "        \tvar plot = plots[idx];\n",
       "        \tvar model = Bokeh.Collections(plot.modeltype).get(plot.modelid);\n",
       "        \tBokeh.logger.info('Realizing plot:')\n",
       "        \tBokeh.logger.info(' - modeltype: ' + plot.modeltype);\n",
       "        \tBokeh.logger.info(' - modelid: ' + plot.modelid);\n",
       "        \tBokeh.logger.info(' - elementid: ' + plot.elementid);\n",
       "        \tvar view = new model.default_view({\n",
       "        \t\tmodel: model,\n",
       "        \t\tel: '#' + plot.elementid\n",
       "        \t});\n",
       "        \tBokeh.index[plot.modelid] = view;\n",
       "        }\n",
       "    });\n",
       "    </script>\n",
       "<div class=\"plotdiv\" id=\"2d05d5ed-bde7-4920-9f99-b9e22411045e\"></div>\n",
       "\n"
      ]
     },
     "metadata": {},
     "output_type": "display_data"
    }
   ],
   "source": [
    "# Create our base figure\n",
    "p = figure(title='Learning Curve',y_range=(0,1))\n",
    "\n",
    "# Create our Training score line\n",
    "p.line(x=train_sizes,y=train_scores.mean(axis=1),color='red',legend=\"Training Scores\")\n",
    "\n",
    "#Create our Testing score line\n",
    "p.line(x=train_sizes,y=test_scores.mean(axis=1),color='blue',legend = \"Test Scores\")\n",
    "\n",
    "#Move our legend around\n",
    "p.legend.orientation = \"bottom_right\"\n",
    "\n",
    "# Render the plot!!\n",
    "show(p)"
   ]
  },
  {
   "cell_type": "markdown",
   "metadata": {},
   "source": [
    "# Grid search\n",
    "\n",
    "###Exercise 5\n",
    "\n",
    "Use the grid_search function to explore different kernels and values for the C parameter on the mush_small_code data.\n",
    "\n",
    "Can you improve on the previous score?"
   ]
  },
  {
   "cell_type": "code",
   "execution_count": 40,
   "metadata": {
    "collapsed": false
   },
   "outputs": [
    {
     "data": {
      "text/plain": [
       "GridSearchCV(cv=None, error_score='raise',\n",
       "       estimator=SVC(C=1.0, cache_size=200, class_weight=None, coef0=0.0, degree=3, gamma=0.0,\n",
       "  kernel='linear', max_iter=-1, probability=False, random_state=None,\n",
       "  shrinking=True, tol=0.001, verbose=False),\n",
       "       fit_params={}, iid=True, loss_func=None, n_jobs=4,\n",
       "       param_grid={'kernel': ('linear', 'rbf'), 'C': [0.1, 1, 10, 100]},\n",
       "       pre_dispatch='2*n_jobs', refit=True, score_func=None, scoring=None,\n",
       "       verbose=0)"
      ]
     },
     "execution_count": 40,
     "metadata": {},
     "output_type": "execute_result"
    }
   ],
   "source": [
    "from sklearn import grid_search\n",
    "\n",
    "parameters = {'kernel':('linear', 'rbf'), 'C':[0.1, 1, 10, 100]}\n",
    "svr = SVC(kernel='linear')\n",
    "model = grid_search.GridSearchCV(svr, parameters, n_jobs=4)\n",
    "\n",
    "X= mush_small_code.drop('edible?',axis=1)\n",
    "y = mush_small_code['edible?']\n",
    "\n",
    "X_train, X_test, y_train, y_test = train_test_split(X, y, test_size=0.33, random_state=0)\n",
    "\n",
    "model.fit(X_train, y_train)"
   ]
  },
  {
   "cell_type": "code",
   "execution_count": 41,
   "metadata": {
    "collapsed": false
   },
   "outputs": [
    {
     "name": "stdout",
     "output_type": "stream",
     "text": [
      "             precision    recall  f1-score   support\n",
      "\n",
      "          0       0.68      0.75      0.72      1275\n",
      "          1       0.75      0.68      0.72      1406\n",
      "\n",
      "avg / total       0.72      0.72      0.72      2681\n",
      "\n"
     ]
    }
   ],
   "source": [
    "print classification_report(y_test,model.predict(X_test))"
   ]
  },
  {
   "cell_type": "code",
   "execution_count": 42,
   "metadata": {
    "collapsed": false
   },
   "outputs": [
    {
     "data": {
      "text/plain": [
       "{'C': 100, 'kernel': 'rbf'}"
      ]
     },
     "execution_count": 42,
     "metadata": {},
     "output_type": "execute_result"
    }
   ],
   "source": [
    "model.best_params_"
   ]
  }
 ],
 "metadata": {
  "kernelspec": {
   "display_name": "Python 2",
   "language": "python",
   "name": "python2"
  },
  "language_info": {
   "codemirror_mode": {
    "name": "ipython",
    "version": 2
   },
   "file_extension": ".py",
   "mimetype": "text/x-python",
   "name": "python",
   "nbconvert_exporter": "python",
   "pygments_lexer": "ipython2",
   "version": "2.7.11"
  }
 },
 "nbformat": 4,
 "nbformat_minor": 0
}
